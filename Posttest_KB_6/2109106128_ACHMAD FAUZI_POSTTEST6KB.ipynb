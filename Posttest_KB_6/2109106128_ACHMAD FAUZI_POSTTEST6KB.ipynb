{
 "cells": [
  {
   "cell_type": "markdown",
   "id": "5bfabe2d-8d4f-49c4-a112-a8565eaeaa60",
   "metadata": {},
   "source": [
    "# Posttest KB 6: Deep Neural Network (DNN)"
   ]
  },
  {
   "cell_type": "markdown",
   "id": "ffe8cbc9-e187-4593-8e05-08a869a5fcfe",
   "metadata": {},
   "source": [
    "* Import Library yang digunakan"
   ]
  },
  {
   "cell_type": "code",
   "execution_count": 1,
   "id": "bb649e5d-af40-46e0-8678-dcca403ea20e",
   "metadata": {},
   "outputs": [],
   "source": [
    "import pandas as pd\n",
    "import numpy as np\n",
    "from sklearn.model_selection import train_test_split\n",
    "from sklearn.preprocessing import StandardScaler, LabelEncoder\n",
    "from tensorflow import keras\n",
    "from tensorflow.keras import layers\n",
    "from tensorflow.keras.models import Sequential\n",
    "from tensorflow.keras.callbacks import EarlyStopping, ModelCheckpoint\n",
    "from sklearn.metrics import accuracy_score\n",
    "import matplotlib.pyplot as plt\n",
    "from tensorflow.keras.layers import Dense\n",
    "from sklearn.impute import SimpleImputer"
   ]
  },
  {
   "cell_type": "code",
   "execution_count": 2,
   "id": "ee8e0f5d-fcba-4fc6-9d9c-6373710e393c",
   "metadata": {},
   "outputs": [
    {
     "data": {
      "text/html": [
       "<div>\n",
       "<style scoped>\n",
       "    .dataframe tbody tr th:only-of-type {\n",
       "        vertical-align: middle;\n",
       "    }\n",
       "\n",
       "    .dataframe tbody tr th {\n",
       "        vertical-align: top;\n",
       "    }\n",
       "\n",
       "    .dataframe thead th {\n",
       "        text-align: right;\n",
       "    }\n",
       "</style>\n",
       "<table border=\"1\" class=\"dataframe\">\n",
       "  <thead>\n",
       "    <tr style=\"text-align: right;\">\n",
       "      <th></th>\n",
       "      <th>id</th>\n",
       "      <th>gender</th>\n",
       "      <th>age</th>\n",
       "      <th>hypertension</th>\n",
       "      <th>heart_disease</th>\n",
       "      <th>ever_married</th>\n",
       "      <th>work_type</th>\n",
       "      <th>Residence_type</th>\n",
       "      <th>avg_glucose_level</th>\n",
       "      <th>bmi</th>\n",
       "      <th>smoking_status</th>\n",
       "      <th>stroke</th>\n",
       "    </tr>\n",
       "  </thead>\n",
       "  <tbody>\n",
       "    <tr>\n",
       "      <th>0</th>\n",
       "      <td>9046</td>\n",
       "      <td>Male</td>\n",
       "      <td>67.0</td>\n",
       "      <td>0</td>\n",
       "      <td>1</td>\n",
       "      <td>Yes</td>\n",
       "      <td>Private</td>\n",
       "      <td>Urban</td>\n",
       "      <td>228.69</td>\n",
       "      <td>36.6</td>\n",
       "      <td>formerly smoked</td>\n",
       "      <td>1</td>\n",
       "    </tr>\n",
       "    <tr>\n",
       "      <th>1</th>\n",
       "      <td>51676</td>\n",
       "      <td>Female</td>\n",
       "      <td>61.0</td>\n",
       "      <td>0</td>\n",
       "      <td>0</td>\n",
       "      <td>Yes</td>\n",
       "      <td>Self-employed</td>\n",
       "      <td>Rural</td>\n",
       "      <td>202.21</td>\n",
       "      <td>NaN</td>\n",
       "      <td>never smoked</td>\n",
       "      <td>1</td>\n",
       "    </tr>\n",
       "    <tr>\n",
       "      <th>2</th>\n",
       "      <td>31112</td>\n",
       "      <td>Male</td>\n",
       "      <td>80.0</td>\n",
       "      <td>0</td>\n",
       "      <td>1</td>\n",
       "      <td>Yes</td>\n",
       "      <td>Private</td>\n",
       "      <td>Rural</td>\n",
       "      <td>105.92</td>\n",
       "      <td>32.5</td>\n",
       "      <td>never smoked</td>\n",
       "      <td>1</td>\n",
       "    </tr>\n",
       "    <tr>\n",
       "      <th>3</th>\n",
       "      <td>60182</td>\n",
       "      <td>Female</td>\n",
       "      <td>49.0</td>\n",
       "      <td>0</td>\n",
       "      <td>0</td>\n",
       "      <td>Yes</td>\n",
       "      <td>Private</td>\n",
       "      <td>Urban</td>\n",
       "      <td>171.23</td>\n",
       "      <td>34.4</td>\n",
       "      <td>smokes</td>\n",
       "      <td>1</td>\n",
       "    </tr>\n",
       "    <tr>\n",
       "      <th>4</th>\n",
       "      <td>1665</td>\n",
       "      <td>Female</td>\n",
       "      <td>79.0</td>\n",
       "      <td>1</td>\n",
       "      <td>0</td>\n",
       "      <td>Yes</td>\n",
       "      <td>Self-employed</td>\n",
       "      <td>Rural</td>\n",
       "      <td>174.12</td>\n",
       "      <td>24.0</td>\n",
       "      <td>never smoked</td>\n",
       "      <td>1</td>\n",
       "    </tr>\n",
       "    <tr>\n",
       "      <th>...</th>\n",
       "      <td>...</td>\n",
       "      <td>...</td>\n",
       "      <td>...</td>\n",
       "      <td>...</td>\n",
       "      <td>...</td>\n",
       "      <td>...</td>\n",
       "      <td>...</td>\n",
       "      <td>...</td>\n",
       "      <td>...</td>\n",
       "      <td>...</td>\n",
       "      <td>...</td>\n",
       "      <td>...</td>\n",
       "    </tr>\n",
       "    <tr>\n",
       "      <th>5105</th>\n",
       "      <td>18234</td>\n",
       "      <td>Female</td>\n",
       "      <td>80.0</td>\n",
       "      <td>1</td>\n",
       "      <td>0</td>\n",
       "      <td>Yes</td>\n",
       "      <td>Private</td>\n",
       "      <td>Urban</td>\n",
       "      <td>83.75</td>\n",
       "      <td>NaN</td>\n",
       "      <td>never smoked</td>\n",
       "      <td>0</td>\n",
       "    </tr>\n",
       "    <tr>\n",
       "      <th>5106</th>\n",
       "      <td>44873</td>\n",
       "      <td>Female</td>\n",
       "      <td>81.0</td>\n",
       "      <td>0</td>\n",
       "      <td>0</td>\n",
       "      <td>Yes</td>\n",
       "      <td>Self-employed</td>\n",
       "      <td>Urban</td>\n",
       "      <td>125.20</td>\n",
       "      <td>40.0</td>\n",
       "      <td>never smoked</td>\n",
       "      <td>0</td>\n",
       "    </tr>\n",
       "    <tr>\n",
       "      <th>5107</th>\n",
       "      <td>19723</td>\n",
       "      <td>Female</td>\n",
       "      <td>35.0</td>\n",
       "      <td>0</td>\n",
       "      <td>0</td>\n",
       "      <td>Yes</td>\n",
       "      <td>Self-employed</td>\n",
       "      <td>Rural</td>\n",
       "      <td>82.99</td>\n",
       "      <td>30.6</td>\n",
       "      <td>never smoked</td>\n",
       "      <td>0</td>\n",
       "    </tr>\n",
       "    <tr>\n",
       "      <th>5108</th>\n",
       "      <td>37544</td>\n",
       "      <td>Male</td>\n",
       "      <td>51.0</td>\n",
       "      <td>0</td>\n",
       "      <td>0</td>\n",
       "      <td>Yes</td>\n",
       "      <td>Private</td>\n",
       "      <td>Rural</td>\n",
       "      <td>166.29</td>\n",
       "      <td>25.6</td>\n",
       "      <td>formerly smoked</td>\n",
       "      <td>0</td>\n",
       "    </tr>\n",
       "    <tr>\n",
       "      <th>5109</th>\n",
       "      <td>44679</td>\n",
       "      <td>Female</td>\n",
       "      <td>44.0</td>\n",
       "      <td>0</td>\n",
       "      <td>0</td>\n",
       "      <td>Yes</td>\n",
       "      <td>Govt_job</td>\n",
       "      <td>Urban</td>\n",
       "      <td>85.28</td>\n",
       "      <td>26.2</td>\n",
       "      <td>Unknown</td>\n",
       "      <td>0</td>\n",
       "    </tr>\n",
       "  </tbody>\n",
       "</table>\n",
       "<p>5110 rows × 12 columns</p>\n",
       "</div>"
      ],
      "text/plain": [
       "         id  gender   age  hypertension  heart_disease ever_married  \\\n",
       "0      9046    Male  67.0             0              1          Yes   \n",
       "1     51676  Female  61.0             0              0          Yes   \n",
       "2     31112    Male  80.0             0              1          Yes   \n",
       "3     60182  Female  49.0             0              0          Yes   \n",
       "4      1665  Female  79.0             1              0          Yes   \n",
       "...     ...     ...   ...           ...            ...          ...   \n",
       "5105  18234  Female  80.0             1              0          Yes   \n",
       "5106  44873  Female  81.0             0              0          Yes   \n",
       "5107  19723  Female  35.0             0              0          Yes   \n",
       "5108  37544    Male  51.0             0              0          Yes   \n",
       "5109  44679  Female  44.0             0              0          Yes   \n",
       "\n",
       "          work_type Residence_type  avg_glucose_level   bmi   smoking_status  \\\n",
       "0           Private          Urban             228.69  36.6  formerly smoked   \n",
       "1     Self-employed          Rural             202.21   NaN     never smoked   \n",
       "2           Private          Rural             105.92  32.5     never smoked   \n",
       "3           Private          Urban             171.23  34.4           smokes   \n",
       "4     Self-employed          Rural             174.12  24.0     never smoked   \n",
       "...             ...            ...                ...   ...              ...   \n",
       "5105        Private          Urban              83.75   NaN     never smoked   \n",
       "5106  Self-employed          Urban             125.20  40.0     never smoked   \n",
       "5107  Self-employed          Rural              82.99  30.6     never smoked   \n",
       "5108        Private          Rural             166.29  25.6  formerly smoked   \n",
       "5109       Govt_job          Urban              85.28  26.2          Unknown   \n",
       "\n",
       "      stroke  \n",
       "0          1  \n",
       "1          1  \n",
       "2          1  \n",
       "3          1  \n",
       "4          1  \n",
       "...      ...  \n",
       "5105       0  \n",
       "5106       0  \n",
       "5107       0  \n",
       "5108       0  \n",
       "5109       0  \n",
       "\n",
       "[5110 rows x 12 columns]"
      ]
     },
     "execution_count": 2,
     "metadata": {},
     "output_type": "execute_result"
    }
   ],
   "source": [
    "data = pd.read_csv('healthcare-dataset-stroke-data.csv')\n",
    "data"
   ]
  },
  {
   "cell_type": "code",
   "execution_count": 3,
   "id": "fe052aae-cac8-4d79-8aea-2044ff660b0c",
   "metadata": {},
   "outputs": [
    {
     "name": "stdout",
     "output_type": "stream",
     "text": [
      "<class 'pandas.core.frame.DataFrame'>\n",
      "RangeIndex: 5110 entries, 0 to 5109\n",
      "Data columns (total 12 columns):\n",
      " #   Column             Non-Null Count  Dtype  \n",
      "---  ------             --------------  -----  \n",
      " 0   id                 5110 non-null   int64  \n",
      " 1   gender             5110 non-null   object \n",
      " 2   age                5110 non-null   float64\n",
      " 3   hypertension       5110 non-null   int64  \n",
      " 4   heart_disease      5110 non-null   int64  \n",
      " 5   ever_married       5110 non-null   object \n",
      " 6   work_type          5110 non-null   object \n",
      " 7   Residence_type     5110 non-null   object \n",
      " 8   avg_glucose_level  5110 non-null   float64\n",
      " 9   bmi                4909 non-null   float64\n",
      " 10  smoking_status     5110 non-null   object \n",
      " 11  stroke             5110 non-null   int64  \n",
      "dtypes: float64(3), int64(4), object(5)\n",
      "memory usage: 479.2+ KB\n"
     ]
    }
   ],
   "source": [
    "data.info()"
   ]
  },
  {
   "cell_type": "markdown",
   "id": "ebdb7f8f-b649-4e03-b388-520bc9a5b5ea",
   "metadata": {},
   "source": [
    "# Preprocessing dataset"
   ]
  },
  {
   "cell_type": "markdown",
   "id": "3f16eeb4-2d81-4d35-8250-6226bb18ddd0",
   "metadata": {},
   "source": [
    "* Melihat apakah ada data null atau duplikat"
   ]
  },
  {
   "cell_type": "code",
   "execution_count": 4,
   "id": "5bebb844-ad76-4ea4-89a8-a8100720b156",
   "metadata": {},
   "outputs": [
    {
     "data": {
      "text/plain": [
       "id                     0\n",
       "gender                 0\n",
       "age                    0\n",
       "hypertension           0\n",
       "heart_disease          0\n",
       "ever_married           0\n",
       "work_type              0\n",
       "Residence_type         0\n",
       "avg_glucose_level      0\n",
       "bmi                  201\n",
       "smoking_status         0\n",
       "stroke                 0\n",
       "dtype: int64"
      ]
     },
     "execution_count": 4,
     "metadata": {},
     "output_type": "execute_result"
    }
   ],
   "source": [
    "data.isna().sum()"
   ]
  },
  {
   "cell_type": "code",
   "execution_count": 5,
   "id": "8de8a7f3-2d79-481f-849d-887a734c4786",
   "metadata": {},
   "outputs": [
    {
     "name": "stdout",
     "output_type": "stream",
     "text": [
      "Index(['id', 'gender', 'age', 'hypertension', 'heart_disease', 'ever_married',\n",
      "       'work_type', 'Residence_type', 'avg_glucose_level', 'bmi',\n",
      "       'smoking_status', 'stroke'],\n",
      "      dtype='object')\n",
      "float64\n",
      "id                   0\n",
      "gender               0\n",
      "age                  0\n",
      "hypertension         0\n",
      "heart_disease        0\n",
      "ever_married         0\n",
      "work_type            0\n",
      "Residence_type       0\n",
      "avg_glucose_level    0\n",
      "bmi                  0\n",
      "smoking_status       0\n",
      "stroke               0\n",
      "dtype: int64\n"
     ]
    }
   ],
   "source": [
    "print(data.columns)\n",
    "\n",
    "# print(data['Sector'].dtype)\n",
    "print(data['bmi'].dtype)\n",
    "\n",
    "simpleImputerObjek = SimpleImputer(strategy='mean')\n",
    "data.loc[:, 'bmi'] = simpleImputerObjek.fit_transform(data[['bmi']])\n",
    "# data.loc[:, 'Industry'] = simpleImputerObjek.fit_transform(data[['Industry']])\n",
    "\n",
    "print(data.isnull().sum())\n"
   ]
  },
  {
   "cell_type": "markdown",
   "id": "13a2103d-2083-4265-8844-9aebde56aafb",
   "metadata": {},
   "source": [
    "* Mengubah Nilai Target Dengan Encoding"
   ]
  },
  {
   "cell_type": "code",
   "execution_count": 6,
   "id": "c0c202be-6a2d-498b-a5d1-56df33b23885",
   "metadata": {},
   "outputs": [],
   "source": [
    "X = data.drop('stroke', axis=1) \n",
    "y = data['stroke']"
   ]
  },
  {
   "cell_type": "code",
   "execution_count": 7,
   "id": "6d250d4f-1fef-4f67-bf4b-4c3a83b2e518",
   "metadata": {},
   "outputs": [],
   "source": [
    "label = LabelEncoder()\n",
    "y = label.fit_transform(y)"
   ]
  },
  {
   "cell_type": "code",
   "execution_count": 8,
   "id": "a8d416ee-a085-47e3-8bd6-36578c899a49",
   "metadata": {},
   "outputs": [],
   "source": [
    "# Memilih atribut yang dianggap memengaruhi hasil prediksi\n",
    "selected_features = ['age', 'hypertension', 'heart_disease', 'avg_glucose_level', 'bmi']\n",
    "X = data[selected_features]\n",
    "y = data['stroke']"
   ]
  },
  {
   "cell_type": "markdown",
   "id": "efc22c23-b8b4-4355-8a94-1b8fe0ae3cca",
   "metadata": {},
   "source": [
    "* Menerapkan One-Hot Encoding menggunakan get_dummies dari Pandas"
   ]
  },
  {
   "cell_type": "code",
   "execution_count": 9,
   "id": "5386e159-d471-4627-8c26-ec646dba9d94",
   "metadata": {},
   "outputs": [
    {
     "name": "stdout",
     "output_type": "stream",
     "text": [
      "KeyError: \"None of [Index(['gender', 'ever_married', 'work_type', 'Residence_type',\\n       'smoking_status'],\\n      dtype='object')] are in the [columns]\"\n",
      "Error Details: \"None of [Index(['gender', 'ever_married', 'work_type', 'Residence_type',\\n       'smoking_status'],\\n      dtype='object')] are in the [columns]\"\n"
     ]
    }
   ],
   "source": [
    "try:\n",
    "    X = pd.get_dummies(X, columns=['gender', 'ever_married', 'work_type', 'Residence_type', 'smoking_status'], drop_first=True)\n",
    "except KeyError as e:\n",
    "    print(\"KeyError:\", e)\n",
    "    print(\"Error Details:\", str(e))"
   ]
  },
  {
   "cell_type": "markdown",
   "id": "731b97e1-0dc0-41b0-99f1-46f19b769202",
   "metadata": {},
   "source": [
    "* Standarisasi"
   ]
  },
  {
   "cell_type": "code",
   "execution_count": 12,
   "id": "f5a57502-fb6c-4855-95e1-f491b178bd69",
   "metadata": {},
   "outputs": [
    {
     "name": "stdout",
     "output_type": "stream",
     "text": [
      "Nilai standarisasi sebelum dilakukan scaling: \n"
     ]
    },
    {
     "data": {
      "text/plain": [
       "id                   21159.650905\n",
       "age                     22.610434\n",
       "hypertension             0.296578\n",
       "heart_disease            0.226041\n",
       "avg_glucose_level       45.279129\n",
       "bmi                      7.697265\n",
       "stroke                   0.215299\n",
       "dtype: float64"
      ]
     },
     "execution_count": 12,
     "metadata": {},
     "output_type": "execute_result"
    }
   ],
   "source": [
    "print('Nilai standarisasi sebelum dilakukan scaling: ')\n",
    "std = data.std(numeric_only=True)\n",
    "np.std(data)"
   ]
  },
  {
   "cell_type": "code",
   "execution_count": 13,
   "id": "4c430fd5-5bda-4c6f-8f55-c30f3fc29ed7",
   "metadata": {},
   "outputs": [],
   "source": [
    "standard_scaler = StandardScaler()\n",
    "x_standard = standard_scaler.fit_transform(\n",
    "    data[['age', 'hypertension', 'heart_disease', 'avg_glucose_level', 'bmi']]\n",
    ")"
   ]
  },
  {
   "cell_type": "code",
   "execution_count": 14,
   "id": "238ffd58-ea09-44b3-b454-17a6793fd5d6",
   "metadata": {},
   "outputs": [
    {
     "name": "stdout",
     "output_type": "stream",
     "text": [
      "Nilai sesudah dilakukan scalling: \n"
     ]
    },
    {
     "data": {
      "text/plain": [
       "1.0"
      ]
     },
     "execution_count": 14,
     "metadata": {},
     "output_type": "execute_result"
    }
   ],
   "source": [
    "print('Nilai sesudah dilakukan scalling: ')\n",
    "np.std(x_standard)"
   ]
  },
  {
   "cell_type": "markdown",
   "id": "c3fce6e1-28e2-4f39-b482-5b2da9cc45e6",
   "metadata": {},
   "source": [
    "# Split dataset menjadi train dan test"
   ]
  },
  {
   "cell_type": "code",
   "execution_count": 15,
   "id": "3198ea05-a355-48f1-a139-fc9e9e3d35f9",
   "metadata": {},
   "outputs": [],
   "source": [
    "x_train, x_test, y_train, y_test = train_test_split(X, y, test_size = 0.15, random_state=42)"
   ]
  },
  {
   "cell_type": "markdown",
   "id": "f414be7f-553f-449d-9b4e-70d1bd08b1ac",
   "metadata": {},
   "source": [
    "# Model sequential"
   ]
  },
  {
   "cell_type": "code",
   "execution_count": 16,
   "id": "e8dc599d-15da-4825-9067-07414182abc3",
   "metadata": {},
   "outputs": [
    {
     "name": "stdout",
     "output_type": "stream",
     "text": [
      "Model: \"sequential\"\n",
      "_________________________________________________________________\n",
      " Layer (type)                Output Shape              Param #   \n",
      "=================================================================\n",
      " dense (Dense)               (None, None, 64)          128       \n",
      "                                                                 \n",
      " dense_1 (Dense)             (None, None, 32)          2080      \n",
      "                                                                 \n",
      " dense_2 (Dense)             (None, None, 1)           33        \n",
      "                                                                 \n",
      "=================================================================\n",
      "Total params: 2241 (8.75 KB)\n",
      "Trainable params: 2241 (8.75 KB)\n",
      "Non-trainable params: 0 (0.00 Byte)\n",
      "_________________________________________________________________\n"
     ]
    }
   ],
   "source": [
    "model = Sequential([\n",
    "    Dense(units=64, activation='relu',input_shape=(None,1)), #Output Layer Wajib units\n",
    "    Dense(units=32, activation='relu'),\n",
    "    Dense(units=1, activation='sigmoid')\n",
    "])\n",
    "\n",
    "model.summary()"
   ]
  },
  {
   "cell_type": "markdown",
   "id": "126b5d21-ffcd-417d-8854-fc42a35f264e",
   "metadata": {},
   "source": [
    "# Model Training\n",
    "\n",
    "__Model Compile__"
   ]
  },
  {
   "cell_type": "code",
   "execution_count": 28,
   "id": "576947bd-02f3-4f7f-a29d-1155a888d13f",
   "metadata": {},
   "outputs": [],
   "source": [
    "model.compile(\n",
    "    optimizer = 'adam',\n",
    "    loss = 'binary_crossentropy',\n",
    "    metrics=['accuracy']\n",
    ")"
   ]
  },
  {
   "cell_type": "markdown",
   "id": "1d8934d6-2cf8-456d-b459-ff840bdf15f7",
   "metadata": {},
   "source": [
    "__Call Back__"
   ]
  },
  {
   "cell_type": "markdown",
   "id": "f9879a40-eb8c-407d-a846-c6f7d9124486",
   "metadata": {},
   "source": [
    "* Callback untuk menghentikan pelatihan jika tidak ada perbaikan pada validation loss"
   ]
  },
  {
   "cell_type": "code",
   "execution_count": 29,
   "id": "6ac6c1e5-fb82-42d3-a6f2-7af4d174eb48",
   "metadata": {},
   "outputs": [],
   "source": [
    "stop = EarlyStopping(monitor='val_loss', patience=10, restore_best_weights=True)"
   ]
  },
  {
   "cell_type": "markdown",
   "id": "55dceb48-1ee0-45a9-ba41-2eb24fd5612e",
   "metadata": {},
   "source": [
    "* Callback untuk menyimpan model terbaik berdasarkan validation loss"
   ]
  },
  {
   "cell_type": "code",
   "execution_count": 30,
   "id": "6ff0ec5a-7f9e-4d42-8461-abd4b76518e7",
   "metadata": {},
   "outputs": [],
   "source": [
    "check = ModelCheckpoint('best_model.h5', save_best_only=True)"
   ]
  },
  {
   "cell_type": "markdown",
   "id": "c7cd4c8a-4500-4550-9fc4-070f7c32530e",
   "metadata": {},
   "source": [
    "__Model Fit__"
   ]
  },
  {
   "cell_type": "code",
   "execution_count": 31,
   "id": "2754421b-a7e3-438b-83dc-bfa21626b05e",
   "metadata": {},
   "outputs": [
    {
     "name": "stdout",
     "output_type": "stream",
     "text": [
      "Epoch 1/50\n",
      "68/68 [==============================] - 3s 12ms/step - loss: 0.1997 - accuracy: 0.9526 - val_loss: 0.1963 - val_accuracy: 0.9513\n",
      "Epoch 2/50\n",
      "28/68 [===========>..................] - ETA: 0s - loss: 0.1980 - accuracy: 0.9503"
     ]
    },
    {
     "name": "stderr",
     "output_type": "stream",
     "text": [
      "C:\\Users\\Asus\\AppData\\Local\\Programs\\Python\\Python310\\lib\\site-packages\\keras\\src\\engine\\training.py:3079: UserWarning: You are saving your model as an HDF5 file via `model.save()`. This file format is considered legacy. We recommend using instead the native Keras format, e.g. `model.save('my_model.keras')`.\n",
      "  saving_api.save_model(\n"
     ]
    },
    {
     "name": "stdout",
     "output_type": "stream",
     "text": [
      "68/68 [==============================] - 0s 6ms/step - loss: 0.1902 - accuracy: 0.9535 - val_loss: 0.1991 - val_accuracy: 0.9513\n",
      "Epoch 3/50\n",
      "68/68 [==============================] - 0s 6ms/step - loss: 0.1891 - accuracy: 0.9534 - val_loss: 0.1962 - val_accuracy: 0.9513\n",
      "Epoch 4/50\n",
      "68/68 [==============================] - 0s 5ms/step - loss: 0.1894 - accuracy: 0.9535 - val_loss: 0.2000 - val_accuracy: 0.9513\n",
      "Epoch 5/50\n",
      "68/68 [==============================] - 0s 6ms/step - loss: 0.1898 - accuracy: 0.9535 - val_loss: 0.1960 - val_accuracy: 0.9513\n",
      "Epoch 6/50\n",
      "68/68 [==============================] - 0s 6ms/step - loss: 0.1904 - accuracy: 0.9535 - val_loss: 0.1944 - val_accuracy: 0.9513\n",
      "Epoch 7/50\n",
      "68/68 [==============================] - 0s 5ms/step - loss: 0.1882 - accuracy: 0.9534 - val_loss: 0.1957 - val_accuracy: 0.9513\n",
      "Epoch 8/50\n",
      "68/68 [==============================] - 0s 6ms/step - loss: 0.1919 - accuracy: 0.9528 - val_loss: 0.1932 - val_accuracy: 0.9513\n",
      "Epoch 9/50\n",
      "68/68 [==============================] - 0s 6ms/step - loss: 0.1908 - accuracy: 0.9533 - val_loss: 0.1944 - val_accuracy: 0.9513\n",
      "Epoch 10/50\n",
      "68/68 [==============================] - 0s 5ms/step - loss: 0.1912 - accuracy: 0.9532 - val_loss: 0.1948 - val_accuracy: 0.9513\n",
      "Epoch 11/50\n",
      "68/68 [==============================] - 0s 6ms/step - loss: 0.1926 - accuracy: 0.9533 - val_loss: 0.1966 - val_accuracy: 0.9513\n",
      "Epoch 12/50\n",
      "68/68 [==============================] - 0s 7ms/step - loss: 0.1953 - accuracy: 0.9527 - val_loss: 0.1954 - val_accuracy: 0.9513\n",
      "Epoch 13/50\n",
      "68/68 [==============================] - 1s 7ms/step - loss: 0.1940 - accuracy: 0.9534 - val_loss: 0.1930 - val_accuracy: 0.9513\n",
      "Epoch 14/50\n",
      "68/68 [==============================] - 0s 6ms/step - loss: 0.1902 - accuracy: 0.9535 - val_loss: 0.2077 - val_accuracy: 0.9513\n",
      "Epoch 15/50\n",
      "68/68 [==============================] - 0s 5ms/step - loss: 0.1925 - accuracy: 0.9533 - val_loss: 0.1975 - val_accuracy: 0.9513\n",
      "Epoch 16/50\n",
      "68/68 [==============================] - 0s 6ms/step - loss: 0.1891 - accuracy: 0.9535 - val_loss: 0.1943 - val_accuracy: 0.9513\n",
      "Epoch 17/50\n",
      "68/68 [==============================] - 0s 6ms/step - loss: 0.1887 - accuracy: 0.9535 - val_loss: 0.1999 - val_accuracy: 0.9513\n",
      "Epoch 18/50\n",
      "68/68 [==============================] - 1s 8ms/step - loss: 0.1941 - accuracy: 0.9530 - val_loss: 0.1948 - val_accuracy: 0.9513\n",
      "Epoch 19/50\n",
      "68/68 [==============================] - 1s 10ms/step - loss: 0.1916 - accuracy: 0.9534 - val_loss: 0.1936 - val_accuracy: 0.9513\n",
      "Epoch 20/50\n",
      "68/68 [==============================] - 1s 9ms/step - loss: 0.1893 - accuracy: 0.9532 - val_loss: 0.1924 - val_accuracy: 0.9513\n",
      "Epoch 21/50\n",
      "68/68 [==============================] - 0s 7ms/step - loss: 0.1908 - accuracy: 0.9534 - val_loss: 0.2002 - val_accuracy: 0.9513\n",
      "Epoch 22/50\n",
      "68/68 [==============================] - 0s 5ms/step - loss: 0.1894 - accuracy: 0.9534 - val_loss: 0.1989 - val_accuracy: 0.9513\n",
      "Epoch 23/50\n",
      "68/68 [==============================] - 0s 7ms/step - loss: 0.1885 - accuracy: 0.9535 - val_loss: 0.1923 - val_accuracy: 0.9513\n",
      "Epoch 24/50\n",
      "68/68 [==============================] - 0s 6ms/step - loss: 0.1881 - accuracy: 0.9535 - val_loss: 0.1942 - val_accuracy: 0.9513\n",
      "Epoch 25/50\n",
      "68/68 [==============================] - 0s 6ms/step - loss: 0.1867 - accuracy: 0.9535 - val_loss: 0.1921 - val_accuracy: 0.9513\n",
      "Epoch 26/50\n",
      "68/68 [==============================] - 0s 6ms/step - loss: 0.1861 - accuracy: 0.9534 - val_loss: 0.1951 - val_accuracy: 0.9513\n",
      "Epoch 27/50\n",
      "68/68 [==============================] - 0s 7ms/step - loss: 0.1918 - accuracy: 0.9532 - val_loss: 0.1923 - val_accuracy: 0.9513\n",
      "Epoch 28/50\n",
      "68/68 [==============================] - 0s 6ms/step - loss: 0.1892 - accuracy: 0.9534 - val_loss: 0.1980 - val_accuracy: 0.9513\n",
      "Epoch 29/50\n",
      "68/68 [==============================] - 0s 6ms/step - loss: 0.1931 - accuracy: 0.9531 - val_loss: 0.1921 - val_accuracy: 0.9513\n",
      "Epoch 30/50\n",
      "68/68 [==============================] - 0s 5ms/step - loss: 0.1897 - accuracy: 0.9534 - val_loss: 0.2031 - val_accuracy: 0.9513\n",
      "Epoch 31/50\n",
      "68/68 [==============================] - 0s 6ms/step - loss: 0.1910 - accuracy: 0.9534 - val_loss: 0.2162 - val_accuracy: 0.9394\n",
      "Epoch 32/50\n",
      "68/68 [==============================] - 0s 6ms/step - loss: 0.1905 - accuracy: 0.9532 - val_loss: 0.1931 - val_accuracy: 0.9513\n",
      "Epoch 33/50\n",
      "68/68 [==============================] - 0s 6ms/step - loss: 0.1895 - accuracy: 0.9535 - val_loss: 0.1943 - val_accuracy: 0.9513\n",
      "Epoch 34/50\n",
      "68/68 [==============================] - 0s 6ms/step - loss: 0.1886 - accuracy: 0.9535 - val_loss: 0.1941 - val_accuracy: 0.9513\n",
      "Epoch 35/50\n",
      "68/68 [==============================] - 0s 5ms/step - loss: 0.1880 - accuracy: 0.9535 - val_loss: 0.2112 - val_accuracy: 0.9513\n"
     ]
    }
   ],
   "source": [
    "history = model.fit(\n",
    "    x = x_train,\n",
    "    y = y_train,\n",
    "    epochs=50, #50x Pembelajaran\n",
    "    validation_data = (X, y),\n",
    "    batch_size=64,\n",
    "    callbacks=[stop, check]\n",
    ")"
   ]
  },
  {
   "cell_type": "code",
   "execution_count": 32,
   "id": "b0f3dd87-2f02-45f5-9adb-a6274ff34171",
   "metadata": {},
   "outputs": [],
   "source": [
    "# Load model terbaik\n",
    "model = keras.models.load_model('best_model.h5')"
   ]
  },
  {
   "cell_type": "markdown",
   "id": "785148fd-b512-4b44-9142-30f9aace52ff",
   "metadata": {},
   "source": [
    "__Evaluasi Model__"
   ]
  },
  {
   "cell_type": "code",
   "execution_count": 33,
   "id": "13b7baeb-5f94-4bcd-b51c-e78295bac250",
   "metadata": {},
   "outputs": [
    {
     "name": "stdout",
     "output_type": "stream",
     "text": [
      "24/24 [==============================] - 0s 3ms/step - loss: 0.2297 - accuracy: 0.9387\n",
      "Test Loss: 0.2297\n",
      "Test Accuracy: 0.9387\n"
     ]
    }
   ],
   "source": [
    "test_loss, test_accuracy = model.evaluate(x_test, y_test)\n",
    "print(f'Test Loss: {test_loss:.4f}')\n",
    "print(f'Test Accuracy: {test_accuracy:.4f}')"
   ]
  },
  {
   "cell_type": "markdown",
   "id": "74821c3a-571b-4a9d-bd78-b7011af28f9d",
   "metadata": {},
   "source": [
    "### Grafik perbandingan antara accuracy dan loss dari train dan test"
   ]
  },
  {
   "cell_type": "code",
   "execution_count": 34,
   "id": "8a0ec39f-070a-41ac-a339-70e64efe306d",
   "metadata": {},
   "outputs": [
    {
     "data": {
      "image/png": "[encoded data removed]",
      "text/plain": [
       "<Figure size 1200x400 with 2 Axes>"
      ]
     },
     "metadata": {},
     "output_type": "display_data"
    }
   ],
   "source": [
    "plt.figure(figsize=(12, 4))\n",
    "plt.subplot(1, 2, 1)\n",
    "plt.plot(history.history['accuracy'], label='Train Accuracy')\n",
    "plt.plot(history.history['val_accuracy'], label='Validation Accuracy')\n",
    "plt.legend()\n",
    "plt.title('Training and Validation Accuracy')\n",
    "\n",
    "plt.subplot(1, 2, 2)\n",
    "plt.plot(history.history['loss'], label='Train Loss')\n",
    "plt.plot(history.history['val_loss'], label='Validation Loss')\n",
    "plt.legend()\n",
    "plt.title('Training and Validation Loss')\n",
    "\n",
    "plt.show()"
   ]
  },
  {
   "cell_type": "code",
   "execution_count": null,
   "id": "6b5e3e69-5613-43fc-ae2b-e11924322f44",
   "metadata": {},
   "outputs": [],
   "source": []
  }
 ],
 "metadata": {
  "kernelspec": {
   "display_name": "Fauzi_128",
   "language": "python",
   "name": "fauzi_128"
  },
  "language_info": {
   "codemirror_mode": {
    "name": "ipython",
    "version": 3
   },
   "file_extension": ".py",
   "mimetype": "text/x-python",
   "name": "python",
   "nbconvert_exporter": "python",
   "pygments_lexer": "ipython3",
   "version": "3.10.7"
  }
 },
 "nbformat": 4,
 "nbformat_minor": 5
}
