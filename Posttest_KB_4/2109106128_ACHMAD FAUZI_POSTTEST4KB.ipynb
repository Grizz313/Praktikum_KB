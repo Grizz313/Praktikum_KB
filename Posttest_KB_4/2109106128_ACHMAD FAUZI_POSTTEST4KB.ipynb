{
 "cells": [
  {
   "cell_type": "markdown",
   "id": "7483ddb0-26ad-4722-a445-2af28413f09c",
   "metadata": {},
   "source": [
    "# Posttest KB 4: Data Preprocessing"
   ]
  },
  {
   "cell_type": "markdown",
   "id": "dec2c158-8941-46d1-8cdd-2f2eb0036013",
   "metadata": {},
   "source": [
    "#### Import library pandas, numpy dan sklearn"
   ]
  },
  {
   "cell_type": "code",
   "execution_count": 43,
   "id": "827323fd-ec5e-4d6c-8c80-d120f734153a",
   "metadata": {},
   "outputs": [],
   "source": [
    "import pandas as pd\n",
    "import numpy as np\n",
    "from sklearn.model_selection import train_test_split"
   ]
  },
  {
   "cell_type": "markdown",
   "id": "da40ef87-078b-497d-af9d-534b701b8594",
   "metadata": {},
   "source": [
    "#### Membaca file CSV"
   ]
  },
  {
   "cell_type": "code",
   "execution_count": 44,
   "id": "5e895041-3c40-48ec-abd5-bb1b43aee4ea",
   "metadata": {},
   "outputs": [
    {
     "data": {
      "text/html": [
       "<div>\n",
       "<style scoped>\n",
       "    .dataframe tbody tr th:only-of-type {\n",
       "        vertical-align: middle;\n",
       "    }\n",
       "\n",
       "    .dataframe tbody tr th {\n",
       "        vertical-align: top;\n",
       "    }\n",
       "\n",
       "    .dataframe thead th {\n",
       "        text-align: right;\n",
       "    }\n",
       "</style>\n",
       "<table border=\"1\" class=\"dataframe\">\n",
       "  <thead>\n",
       "    <tr style=\"text-align: right;\">\n",
       "      <th></th>\n",
       "      <th>Rank</th>\n",
       "      <th>Company</th>\n",
       "      <th>Country</th>\n",
       "      <th>Sales</th>\n",
       "      <th>Profits</th>\n",
       "      <th>Assets</th>\n",
       "      <th>Market Value</th>\n",
       "      <th>Sector</th>\n",
       "      <th>Industry</th>\n",
       "    </tr>\n",
       "  </thead>\n",
       "  <tbody>\n",
       "    <tr>\n",
       "      <th>0</th>\n",
       "      <td>1</td>\n",
       "      <td>ICBC</td>\n",
       "      <td>China</td>\n",
       "      <td>151.4</td>\n",
       "      <td>42.0</td>\n",
       "      <td>3473.2</td>\n",
       "      <td>229.8</td>\n",
       "      <td>Financials</td>\n",
       "      <td>Major Banks</td>\n",
       "    </tr>\n",
       "    <tr>\n",
       "      <th>1</th>\n",
       "      <td>2</td>\n",
       "      <td>China Construction Bank</td>\n",
       "      <td>China</td>\n",
       "      <td>134.2</td>\n",
       "      <td>35.0</td>\n",
       "      <td>3016.6</td>\n",
       "      <td>200.5</td>\n",
       "      <td>Financials</td>\n",
       "      <td>Regional Banks</td>\n",
       "    </tr>\n",
       "    <tr>\n",
       "      <th>2</th>\n",
       "      <td>3</td>\n",
       "      <td>Berkshire Hathaway</td>\n",
       "      <td>United States</td>\n",
       "      <td>222.9</td>\n",
       "      <td>24.1</td>\n",
       "      <td>620.9</td>\n",
       "      <td>409.9</td>\n",
       "      <td>Financials</td>\n",
       "      <td>Investment Services</td>\n",
       "    </tr>\n",
       "    <tr>\n",
       "      <th>3</th>\n",
       "      <td>4</td>\n",
       "      <td>JPMorgan Chase</td>\n",
       "      <td>United States</td>\n",
       "      <td>102.5</td>\n",
       "      <td>24.2</td>\n",
       "      <td>2513.0</td>\n",
       "      <td>306.6</td>\n",
       "      <td>Financials</td>\n",
       "      <td>Major Banks</td>\n",
       "    </tr>\n",
       "    <tr>\n",
       "      <th>4</th>\n",
       "      <td>5</td>\n",
       "      <td>Wells Fargo</td>\n",
       "      <td>United States</td>\n",
       "      <td>97.6</td>\n",
       "      <td>21.9</td>\n",
       "      <td>1943.4</td>\n",
       "      <td>274.4</td>\n",
       "      <td>Financials</td>\n",
       "      <td>Major Banks</td>\n",
       "    </tr>\n",
       "  </tbody>\n",
       "</table>\n",
       "</div>"
      ],
      "text/plain": [
       "   Rank                  Company        Country  Sales  Profits  Assets  \\\n",
       "0     1                     ICBC          China  151.4     42.0  3473.2   \n",
       "1     2  China Construction Bank          China  134.2     35.0  3016.6   \n",
       "2     3       Berkshire Hathaway  United States  222.9     24.1   620.9   \n",
       "3     4           JPMorgan Chase  United States  102.5     24.2  2513.0   \n",
       "4     5              Wells Fargo  United States   97.6     21.9  1943.4   \n",
       "\n",
       "   Market Value      Sector             Industry  \n",
       "0         229.8  Financials          Major Banks  \n",
       "1         200.5  Financials       Regional Banks  \n",
       "2         409.9  Financials  Investment Services  \n",
       "3         306.6  Financials          Major Banks  \n",
       "4         274.4  Financials          Major Banks  "
      ]
     },
     "execution_count": 44,
     "metadata": {},
     "output_type": "execute_result"
    }
   ],
   "source": [
    "dataset_split = pd.read_csv('Forbes Top2000 2017.csv')\n",
    "dataset_split.head()"
   ]
  },
  {
   "cell_type": "markdown",
   "id": "4244985b-3dc1-4f37-a6e6-51891be19b30",
   "metadata": {},
   "source": [
    "#### Menampilkan informasi dataset"
   ]
  },
  {
   "cell_type": "code",
   "execution_count": 45,
   "id": "c66ee4bf-72fe-4c1d-a2cc-4cbb38e03ceb",
   "metadata": {},
   "outputs": [
    {
     "name": "stdout",
     "output_type": "stream",
     "text": [
      "<class 'pandas.core.frame.DataFrame'>\n",
      "RangeIndex: 2000 entries, 0 to 1999\n",
      "Data columns (total 9 columns):\n",
      " #   Column        Non-Null Count  Dtype  \n",
      "---  ------        --------------  -----  \n",
      " 0   Rank          2000 non-null   int64  \n",
      " 1   Company       2000 non-null   object \n",
      " 2   Country       2000 non-null   object \n",
      " 3   Sales         2000 non-null   float64\n",
      " 4   Profits       2000 non-null   float64\n",
      " 5   Assets        2000 non-null   float64\n",
      " 6   Market Value  2000 non-null   float64\n",
      " 7   Sector        1803 non-null   object \n",
      " 8   Industry      1509 non-null   object \n",
      "dtypes: float64(4), int64(1), object(4)\n",
      "memory usage: 140.8+ KB\n"
     ]
    }
   ],
   "source": [
    "dataset_split.info()"
   ]
  },
  {
   "cell_type": "markdown",
   "id": "185274f9-3932-43f6-be4c-62bfae869ce7",
   "metadata": {},
   "source": [
    "#### Panjang record dan atribut"
   ]
  },
  {
   "cell_type": "code",
   "execution_count": 46,
   "id": "fed73e94-9000-4e32-ab1e-f3d99f38a896",
   "metadata": {},
   "outputs": [
    {
     "data": {
      "text/plain": [
       "(2000, 9)"
      ]
     },
     "execution_count": 46,
     "metadata": {},
     "output_type": "execute_result"
    }
   ],
   "source": [
    "dataset_split.shape"
   ]
  },
  {
   "cell_type": "markdown",
   "id": "3b35cd1d-fd58-45b8-816c-5a334db210a5",
   "metadata": {},
   "source": [
    "# SPLIT DATASET"
   ]
  },
  {
   "cell_type": "markdown",
   "id": "fba8ea3d-a235-4ce4-a71f-e46cede2d780",
   "metadata": {},
   "source": [
    "### 1. Membagi Dataset Menjadi Training Set dan Testing Set dengan Proporsi 70:30"
   ]
  },
  {
   "cell_type": "code",
   "execution_count": 47,
   "id": "4845dd0e-9933-42b1-a039-d4d8d1463c62",
   "metadata": {},
   "outputs": [],
   "source": [
    "x = dataset_split.iloc[:, :-1]\n",
    "y = dataset_split.iloc[:, -1]"
   ]
  },
  {
   "cell_type": "code",
   "execution_count": 48,
   "id": "334b39d8-2a7e-4a30-8703-4a2e20f625be",
   "metadata": {},
   "outputs": [
    {
     "name": "stdout",
     "output_type": "stream",
     "text": [
      "Dimensi x_train :  (1400, 8)\n",
      "Dimensi x_test  :  (600, 8)\n",
      "Dimensi y_train :  (1400,)\n",
      "Dimensi y_test  :  (600,)\n"
     ]
    }
   ],
   "source": [
    "x_train, x_test, y_train, y_test = train_test_split(x, y, test_size = 0.3)\n",
    "\n",
    "print('Dimensi x_train : ', x_train.shape)\n",
    "print('Dimensi x_test  : ', x_test.shape)\n",
    "print('Dimensi y_train : ', y_train.shape)\n",
    "print('Dimensi y_test  : ', y_test.shape)"
   ]
  },
  {
   "cell_type": "markdown",
   "id": "8fc48e75-635d-4577-a207-fa07515bed84",
   "metadata": {},
   "source": [
    "# DATA TRANSFORMING"
   ]
  },
  {
   "cell_type": "markdown",
   "id": "9aa936fb-97c7-41c3-b4da-2d0c76330261",
   "metadata": {},
   "source": [
    "### 2. Normalization"
   ]
  },
  {
   "cell_type": "markdown",
   "id": "405148a6-82a0-44b5-874d-ed50a9638189",
   "metadata": {},
   "source": [
    "##### Normalisasi pada salah satu atribut (copy dataset terlebih dahulu). Untuk Transformasi Data Normalisasi perlu menggunakan kelas MinMaxScaler pada Scikit-Learn."
   ]
  },
  {
   "cell_type": "code",
   "execution_count": 49,
   "id": "e84f2ba0-c3c2-4e65-a707-ce0e33f56273",
   "metadata": {},
   "outputs": [],
   "source": [
    "from sklearn.preprocessing import MinMaxScaler"
   ]
  },
  {
   "cell_type": "code",
   "execution_count": 50,
   "id": "b86b27ce-888c-4496-8914-d4340189f517",
   "metadata": {},
   "outputs": [],
   "source": [
    "datasetCopyNorm = df.copy()"
   ]
  },
  {
   "cell_type": "code",
   "execution_count": 51,
   "id": "167f9445-f356-429b-a3b0-97adfa439e7a",
   "metadata": {},
   "outputs": [],
   "source": [
    "min_max_scaler = MinMaxScaler()"
   ]
  },
  {
   "cell_type": "code",
   "execution_count": 54,
   "id": "753d7202-5acc-4821-8510-f9e58bfaa072",
   "metadata": {},
   "outputs": [],
   "source": [
    "x_norm = min_max_scaler.fit_transform(\n",
    "    dataset_split[['Rank', 'Sales', 'Profits','Assets', 'Market Value']]\n",
    ")"
   ]
  },
  {
   "cell_type": "markdown",
   "id": "a72f8ec8-1c8f-424e-b432-f95173dcf4aa",
   "metadata": {},
   "source": [
    "##### Normalisasi berhasil"
   ]
  },
  {
   "cell_type": "code",
   "execution_count": 55,
   "id": "d61de55d-37c3-41ab-8a48-dfb4cd9dbaed",
   "metadata": {},
   "outputs": [],
   "source": [
    "dataNormalisasi = pd.DataFrame(x_norm)"
   ]
  },
  {
   "cell_type": "code",
   "execution_count": 56,
   "id": "2f533281-1609-4d28-85e1-a1d93caa4441",
   "metadata": {},
   "outputs": [
    {
     "data": {
      "text/html": [
       "<div>\n",
       "<style scoped>\n",
       "    .dataframe tbody tr th:only-of-type {\n",
       "        vertical-align: middle;\n",
       "    }\n",
       "\n",
       "    .dataframe tbody tr th {\n",
       "        vertical-align: top;\n",
       "    }\n",
       "\n",
       "    .dataframe thead th {\n",
       "        text-align: right;\n",
       "    }\n",
       "</style>\n",
       "<table border=\"1\" class=\"dataframe\">\n",
       "  <thead>\n",
       "    <tr style=\"text-align: right;\">\n",
       "      <th></th>\n",
       "      <th>0</th>\n",
       "      <th>1</th>\n",
       "      <th>2</th>\n",
       "      <th>3</th>\n",
       "      <th>4</th>\n",
       "    </tr>\n",
       "  </thead>\n",
       "  <tbody>\n",
       "    <tr>\n",
       "      <th>0</th>\n",
       "      <td>0.000000</td>\n",
       "      <td>0.311971</td>\n",
       "      <td>0.945017</td>\n",
       "      <td>1.000000</td>\n",
       "      <td>0.305519</td>\n",
       "    </tr>\n",
       "    <tr>\n",
       "      <th>1</th>\n",
       "      <td>0.000500</td>\n",
       "      <td>0.276528</td>\n",
       "      <td>0.824742</td>\n",
       "      <td>0.868536</td>\n",
       "      <td>0.266552</td>\n",
       "    </tr>\n",
       "    <tr>\n",
       "      <th>2</th>\n",
       "      <td>0.001001</td>\n",
       "      <td>0.459302</td>\n",
       "      <td>0.637457</td>\n",
       "      <td>0.178769</td>\n",
       "      <td>0.545036</td>\n",
       "    </tr>\n",
       "    <tr>\n",
       "      <th>3</th>\n",
       "      <td>0.001501</td>\n",
       "      <td>0.211208</td>\n",
       "      <td>0.639175</td>\n",
       "      <td>0.723540</td>\n",
       "      <td>0.407656</td>\n",
       "    </tr>\n",
       "    <tr>\n",
       "      <th>4</th>\n",
       "      <td>0.002001</td>\n",
       "      <td>0.201111</td>\n",
       "      <td>0.599656</td>\n",
       "      <td>0.559542</td>\n",
       "      <td>0.364833</td>\n",
       "    </tr>\n",
       "  </tbody>\n",
       "</table>\n",
       "</div>"
      ],
      "text/plain": [
       "          0         1         2         3         4\n",
       "0  0.000000  0.311971  0.945017  1.000000  0.305519\n",
       "1  0.000500  0.276528  0.824742  0.868536  0.266552\n",
       "2  0.001001  0.459302  0.637457  0.178769  0.545036\n",
       "3  0.001501  0.211208  0.639175  0.723540  0.407656\n",
       "4  0.002001  0.201111  0.599656  0.559542  0.364833"
      ]
     },
     "execution_count": 56,
     "metadata": {},
     "output_type": "execute_result"
    }
   ],
   "source": [
    "dataNormalisasi.head()"
   ]
  },
  {
   "cell_type": "markdown",
   "id": "c914b1e6-6f60-478f-9def-af882f2fc23d",
   "metadata": {},
   "source": [
    "### 3. Standarization"
   ]
  },
  {
   "cell_type": "markdown",
   "id": "b13bc94e-4154-4eba-817b-db7f6ba6f987",
   "metadata": {},
   "source": [
    "##### Standarisasi pada dataset dengan meng-copy dataset terlebih dahulu."
   ]
  },
  {
   "cell_type": "code",
   "execution_count": 57,
   "id": "1cdc6912-d0cd-4630-8714-e58ccce02a39",
   "metadata": {},
   "outputs": [],
   "source": [
    "datasetCopyNorm = dataset_split.copy()"
   ]
  },
  {
   "cell_type": "code",
   "execution_count": 58,
   "id": "9c2b1c29-c670-436e-af08-6f3c35203739",
   "metadata": {},
   "outputs": [
    {
     "name": "stdout",
     "output_type": "stream",
     "text": [
      "Nilai standarisasi sebelum dilakukan scaling: \n"
     ]
    },
    {
     "name": "stderr",
     "output_type": "stream",
     "text": [
      "C:\\Users\\Asus\\AppData\\Local\\Programs\\Python\\Python310\\lib\\site-packages\\numpy\\core\\fromnumeric.py:3613: FutureWarning: The default value of numeric_only in DataFrame.std is deprecated. In a future version, it will default to False. In addition, specifying 'numeric_only=None' is deprecated. Select only valid columns or specify the value of numeric_only to silence this warning.\n",
      "  return std(axis=axis, dtype=dtype, out=out, ddof=ddof, **kwargs)\n"
     ]
    },
    {
     "data": {
      "text/plain": [
       "Rank            577.350197\n",
       "Sales            29.312785\n",
       "Profits           2.918012\n",
       "Assets          260.919234\n",
       "Market Value     44.750208\n",
       "dtype: float64"
      ]
     },
     "execution_count": 58,
     "metadata": {},
     "output_type": "execute_result"
    }
   ],
   "source": [
    "print('Nilai standarisasi sebelum dilakukan scaling: ')\n",
    "np.std(dataset_split)"
   ]
  },
  {
   "cell_type": "markdown",
   "id": "eda0a7cd-3983-4c6c-a375-55442f09b37e",
   "metadata": {},
   "source": [
    "##### Untuk Transformasi Data Standarisasi perlu menggunakan kelas StandardScaler pada Scikit-Learn"
   ]
  },
  {
   "cell_type": "code",
   "execution_count": 59,
   "id": "1a4dc61f-fd19-4bcf-8eec-f5beeb5eda96",
   "metadata": {},
   "outputs": [],
   "source": [
    "from sklearn.preprocessing import StandardScaler"
   ]
  },
  {
   "cell_type": "code",
   "execution_count": 60,
   "id": "c018d13f-b51d-40df-942c-bc1cde70c6c2",
   "metadata": {},
   "outputs": [],
   "source": [
    "standard_scaler = StandardScaler()"
   ]
  },
  {
   "cell_type": "code",
   "execution_count": 62,
   "id": "018db6be-3bbd-46ff-91c5-ecd0ed6c26a9",
   "metadata": {},
   "outputs": [],
   "source": [
    "x_standard = standard_scaler.fit_transform(\n",
    "    dataset_split[['Rank', 'Sales', 'Profits', 'Assets', 'Market Value']]\n",
    ")"
   ]
  },
  {
   "cell_type": "markdown",
   "id": "18069e0b-838b-4bfb-b882-58793619a198",
   "metadata": {},
   "source": [
    "##### Standarisasi berhasil"
   ]
  },
  {
   "cell_type": "code",
   "execution_count": 63,
   "id": "ba2d4b74-3eb8-4057-9898-ebe1646b05b1",
   "metadata": {},
   "outputs": [
    {
     "name": "stdout",
     "output_type": "stream",
     "text": [
      "Nilai sesudah dilakukan scalling: \n"
     ]
    },
    {
     "data": {
      "text/plain": [
       "0.9999999999999999"
      ]
     },
     "execution_count": 63,
     "metadata": {},
     "output_type": "execute_result"
    }
   ],
   "source": [
    "print('Nilai sesudah dilakukan scalling: ')\n",
    "np.std(x_standard)"
   ]
  },
  {
   "cell_type": "code",
   "execution_count": 64,
   "id": "36ee7c11-6907-47a4-9c9c-916c6d17efad",
   "metadata": {},
   "outputs": [
    {
     "data": {
      "text/html": [
       "<div>\n",
       "<style scoped>\n",
       "    .dataframe tbody tr th:only-of-type {\n",
       "        vertical-align: middle;\n",
       "    }\n",
       "\n",
       "    .dataframe tbody tr th {\n",
       "        vertical-align: top;\n",
       "    }\n",
       "\n",
       "    .dataframe thead th {\n",
       "        text-align: right;\n",
       "    }\n",
       "</style>\n",
       "<table border=\"1\" class=\"dataframe\">\n",
       "  <thead>\n",
       "    <tr style=\"text-align: right;\">\n",
       "      <th></th>\n",
       "      <th>0</th>\n",
       "      <th>1</th>\n",
       "      <th>2</th>\n",
       "      <th>3</th>\n",
       "      <th>4</th>\n",
       "    </tr>\n",
       "  </thead>\n",
       "  <tbody>\n",
       "    <tr>\n",
       "      <th>0</th>\n",
       "      <td>-1.731185</td>\n",
       "      <td>4.562360</td>\n",
       "      <td>13.968168</td>\n",
       "      <td>12.987415</td>\n",
       "      <td>4.589524</td>\n",
       "    </tr>\n",
       "    <tr>\n",
       "      <th>1</th>\n",
       "      <td>-1.729453</td>\n",
       "      <td>3.975586</td>\n",
       "      <td>11.569275</td>\n",
       "      <td>11.237448</td>\n",
       "      <td>3.934779</td>\n",
       "    </tr>\n",
       "    <tr>\n",
       "      <th>2</th>\n",
       "      <td>-1.727721</td>\n",
       "      <td>7.001569</td>\n",
       "      <td>7.833855</td>\n",
       "      <td>2.055680</td>\n",
       "      <td>8.614086</td>\n",
       "    </tr>\n",
       "    <tr>\n",
       "      <th>3</th>\n",
       "      <td>-1.725989</td>\n",
       "      <td>2.894146</td>\n",
       "      <td>7.868125</td>\n",
       "      <td>9.307349</td>\n",
       "      <td>6.305717</td>\n",
       "    </tr>\n",
       "    <tr>\n",
       "      <th>4</th>\n",
       "      <td>-1.724257</td>\n",
       "      <td>2.726984</td>\n",
       "      <td>7.079917</td>\n",
       "      <td>7.124298</td>\n",
       "      <td>5.586167</td>\n",
       "    </tr>\n",
       "  </tbody>\n",
       "</table>\n",
       "</div>"
      ],
      "text/plain": [
       "          0         1          2          3         4\n",
       "0 -1.731185  4.562360  13.968168  12.987415  4.589524\n",
       "1 -1.729453  3.975586  11.569275  11.237448  3.934779\n",
       "2 -1.727721  7.001569   7.833855   2.055680  8.614086\n",
       "3 -1.725989  2.894146   7.868125   9.307349  6.305717\n",
       "4 -1.724257  2.726984   7.079917   7.124298  5.586167"
      ]
     },
     "execution_count": 64,
     "metadata": {},
     "output_type": "execute_result"
    }
   ],
   "source": [
    "data_standarisasi = pd.DataFrame(x_standard)\n",
    "data_standarisasi.head()"
   ]
  },
  {
   "cell_type": "code",
   "execution_count": 65,
   "id": "e88a3197-a74c-4b92-b796-0ac895d3cc6b",
   "metadata": {},
   "outputs": [
    {
     "data": {
      "text/plain": [
       "1.7053025658242403e-17"
      ]
     },
     "execution_count": 65,
     "metadata": {},
     "output_type": "execute_result"
    }
   ],
   "source": [
    "np.mean(x_standard)"
   ]
  },
  {
   "cell_type": "markdown",
   "id": "3819ae6e-6e34-4feb-b650-d97eab528563",
   "metadata": {},
   "source": [
    "# DATA CLEANING"
   ]
  },
  {
   "cell_type": "markdown",
   "id": "73e69f6f-5c3b-46db-87b2-88d557afdd36",
   "metadata": {},
   "source": [
    "### 4. Menangani Nilai NULL pada Dataset"
   ]
  },
  {
   "cell_type": "markdown",
   "id": "f0fd8b2f-a12d-4868-a0f1-0afb54deeecc",
   "metadata": {},
   "source": [
    "##### Mengecek nilai null pada dataset."
   ]
  },
  {
   "cell_type": "code",
   "execution_count": 66,
   "id": "4dad933a-30c4-4ff2-9628-433b55539b30",
   "metadata": {},
   "outputs": [
    {
     "name": "stdout",
     "output_type": "stream",
     "text": [
      "Jumlah Record yang punya nilai NULL: \n"
     ]
    },
    {
     "data": {
      "text/plain": [
       "Rank              0\n",
       "Company           0\n",
       "Country           0\n",
       "Sales             0\n",
       "Profits           0\n",
       "Assets            0\n",
       "Market Value      0\n",
       "Sector          197\n",
       "Industry        491\n",
       "dtype: int64"
      ]
     },
     "execution_count": 66,
     "metadata": {},
     "output_type": "execute_result"
    }
   ],
   "source": [
    "print('Jumlah Record yang punya nilai NULL: ')\n",
    "dataset_split.isnull().sum()"
   ]
  },
  {
   "cell_type": "code",
   "execution_count": 67,
   "id": "63de60fd-1f32-48a3-a048-8317c93c174f",
   "metadata": {},
   "outputs": [
    {
     "name": "stdout",
     "output_type": "stream",
     "text": [
      "Jumlah Record yang punya nilai NULL: \n"
     ]
    },
    {
     "data": {
      "text/plain": [
       "Rank              0\n",
       "Company           0\n",
       "Country           0\n",
       "Sales             0\n",
       "Profits           0\n",
       "Assets            0\n",
       "Market Value      0\n",
       "Sector          197\n",
       "Industry        491\n",
       "dtype: int64"
      ]
     },
     "execution_count": 67,
     "metadata": {},
     "output_type": "execute_result"
    }
   ],
   "source": [
    "print('Jumlah Record yang punya nilai NULL: ')\n",
    "dataset_split.isna().sum()"
   ]
  },
  {
   "cell_type": "markdown",
   "id": "75e1daed-8d66-4e33-8b68-98e78df0dc3a",
   "metadata": {},
   "source": [
    "#### Untuk menangani nilai NULL pada dataset kita dapat menggunakan kelas SimpleImputer pada Scikit-Learn."
   ]
  },
  {
   "cell_type": "code",
   "execution_count": 68,
   "id": "bae6aaab-bd08-42a4-83bc-cacd5046b272",
   "metadata": {},
   "outputs": [],
   "source": [
    "from sklearn.impute import SimpleImputer"
   ]
  },
  {
   "cell_type": "markdown",
   "id": "39069626-f7e7-4b91-b82c-c9f01fb24881",
   "metadata": {},
   "source": [
    "##### Mengubah nilai null type objek dengan Strategi modus."
   ]
  },
  {
   "cell_type": "code",
   "execution_count": 105,
   "id": "748bde14-8539-4326-a406-67b71f3c7a05",
   "metadata": {},
   "outputs": [
    {
     "data": {
      "text/plain": [
       "Rank            13\n",
       "Company          0\n",
       "Country          0\n",
       "Sales            0\n",
       "Profits          0\n",
       "Assets           0\n",
       "Market Value     0\n",
       "Sector           0\n",
       "Industry         0\n",
       "dtype: int64"
      ]
     },
     "execution_count": 105,
     "metadata": {},
     "output_type": "execute_result"
    }
   ],
   "source": [
    "simpleImputerObjek = SimpleImputer(strategy = 'most_frequent')\n",
    "dataset_split['Sector'] = simpleImputerObjek.fit_transform(df[['Sector']])\n",
    "dataset_split['Industry'] = simpleImputerObjek.fit_transform(df[['Industry']])\n",
    "dataset_split.isnull().sum()"
   ]
  },
  {
   "cell_type": "markdown",
   "id": "6ddb1656-89ac-44dd-a2e9-41e88fd558fe",
   "metadata": {},
   "source": [
    "* Karena Data tidak ada yang bernilai null untuk bilangan bulat dan bilangan desimal maka kita buat terlebih dahulu."
   ]
  },
  {
   "cell_type": "code",
   "execution_count": 101,
   "id": "2dad990f-19cc-4a72-8df8-45641103b2b9",
   "metadata": {},
   "outputs": [
    {
     "data": {
      "text/html": [
       "<div>\n",
       "<style scoped>\n",
       "    .dataframe tbody tr th:only-of-type {\n",
       "        vertical-align: middle;\n",
       "    }\n",
       "\n",
       "    .dataframe tbody tr th {\n",
       "        vertical-align: top;\n",
       "    }\n",
       "\n",
       "    .dataframe thead th {\n",
       "        text-align: right;\n",
       "    }\n",
       "</style>\n",
       "<table border=\"1\" class=\"dataframe\">\n",
       "  <thead>\n",
       "    <tr style=\"text-align: right;\">\n",
       "      <th></th>\n",
       "      <th>Rank</th>\n",
       "      <th>Company</th>\n",
       "      <th>Country</th>\n",
       "      <th>Sales</th>\n",
       "      <th>Profits</th>\n",
       "      <th>Assets</th>\n",
       "      <th>Market Value</th>\n",
       "      <th>Sector</th>\n",
       "      <th>Industry</th>\n",
       "    </tr>\n",
       "  </thead>\n",
       "  <tbody>\n",
       "    <tr>\n",
       "      <th>5</th>\n",
       "      <td>NaN</td>\n",
       "      <td>Agricultural Bank of China</td>\n",
       "      <td>China</td>\n",
       "      <td>115.70</td>\n",
       "      <td>27.800</td>\n",
       "      <td>2816.0</td>\n",
       "      <td>149.2</td>\n",
       "      <td>Financials</td>\n",
       "      <td>Regional Banks</td>\n",
       "    </tr>\n",
       "    <tr>\n",
       "      <th>10</th>\n",
       "      <td>NaN</td>\n",
       "      <td>AT&amp;T</td>\n",
       "      <td>United States</td>\n",
       "      <td>163.80</td>\n",
       "      <td>13.000</td>\n",
       "      <td>403.8</td>\n",
       "      <td>249.3</td>\n",
       "      <td>Telecommunication Services</td>\n",
       "      <td>Telecommunications services</td>\n",
       "    </tr>\n",
       "    <tr>\n",
       "      <th>12</th>\n",
       "      <td>13.0</td>\n",
       "      <td>Exxon Mobil</td>\n",
       "      <td>United States</td>\n",
       "      <td>197.50</td>\n",
       "      <td>7.800</td>\n",
       "      <td>330.3</td>\n",
       "      <td>343.2</td>\n",
       "      <td>Energy</td>\n",
       "      <td>NaN</td>\n",
       "    </tr>\n",
       "    <tr>\n",
       "      <th>20</th>\n",
       "      <td>NaN</td>\n",
       "      <td>Allianz</td>\n",
       "      <td>Germany</td>\n",
       "      <td>115.70</td>\n",
       "      <td>7.600</td>\n",
       "      <td>935.9</td>\n",
       "      <td>83.7</td>\n",
       "      <td>Financials</td>\n",
       "      <td>Diversified Insurance</td>\n",
       "    </tr>\n",
       "    <tr>\n",
       "      <th>23</th>\n",
       "      <td>24.0</td>\n",
       "      <td>Alphabet</td>\n",
       "      <td>United States</td>\n",
       "      <td>89.90</td>\n",
       "      <td>19.500</td>\n",
       "      <td>167.5</td>\n",
       "      <td>579.5</td>\n",
       "      <td>Information Technology</td>\n",
       "      <td>NaN</td>\n",
       "    </tr>\n",
       "    <tr>\n",
       "      <th>...</th>\n",
       "      <td>...</td>\n",
       "      <td>...</td>\n",
       "      <td>...</td>\n",
       "      <td>...</td>\n",
       "      <td>...</td>\n",
       "      <td>...</td>\n",
       "      <td>...</td>\n",
       "      <td>...</td>\n",
       "      <td>...</td>\n",
       "    </tr>\n",
       "    <tr>\n",
       "      <th>1988</th>\n",
       "      <td>1989.0</td>\n",
       "      <td>Barry Callebaut</td>\n",
       "      <td>Switzerland</td>\n",
       "      <td>6.80</td>\n",
       "      <td>0.221</td>\n",
       "      <td>5.8</td>\n",
       "      <td>7.3</td>\n",
       "      <td>Consumer Discretionary</td>\n",
       "      <td>NaN</td>\n",
       "    </tr>\n",
       "    <tr>\n",
       "      <th>1991</th>\n",
       "      <td>1992.0</td>\n",
       "      <td>Guangxi Guiguan Electric Power</td>\n",
       "      <td>China</td>\n",
       "      <td>2.00</td>\n",
       "      <td>0.643</td>\n",
       "      <td>6.0</td>\n",
       "      <td>6.0</td>\n",
       "      <td>Energy</td>\n",
       "      <td>NaN</td>\n",
       "    </tr>\n",
       "    <tr>\n",
       "      <th>1992</th>\n",
       "      <td>1993.0</td>\n",
       "      <td>Live Nation Entertainment</td>\n",
       "      <td>United States</td>\n",
       "      <td>8.40</td>\n",
       "      <td>-0.047</td>\n",
       "      <td>6.8</td>\n",
       "      <td>6.4</td>\n",
       "      <td>Energy</td>\n",
       "      <td>NaN</td>\n",
       "    </tr>\n",
       "    <tr>\n",
       "      <th>1996</th>\n",
       "      <td>1997.0</td>\n",
       "      <td>Fastighets Balder</td>\n",
       "      <td>Sweden</td>\n",
       "      <td>0.63</td>\n",
       "      <td>0.639</td>\n",
       "      <td>10.2</td>\n",
       "      <td>3.8</td>\n",
       "      <td>Materials</td>\n",
       "      <td>NaN</td>\n",
       "    </tr>\n",
       "    <tr>\n",
       "      <th>1999</th>\n",
       "      <td>2000.0</td>\n",
       "      <td>Tech Mahindra</td>\n",
       "      <td>India</td>\n",
       "      <td>4.20</td>\n",
       "      <td>0.469</td>\n",
       "      <td>3.6</td>\n",
       "      <td>6.7</td>\n",
       "      <td>Information Technology</td>\n",
       "      <td>NaN</td>\n",
       "    </tr>\n",
       "  </tbody>\n",
       "</table>\n",
       "<p>504 rows × 9 columns</p>\n",
       "</div>"
      ],
      "text/plain": [
       "        Rank                         Company        Country   Sales  Profits  \\\n",
       "5        NaN      Agricultural Bank of China          China  115.70   27.800   \n",
       "10       NaN                            AT&T  United States  163.80   13.000   \n",
       "12      13.0                     Exxon Mobil  United States  197.50    7.800   \n",
       "20       NaN                         Allianz        Germany  115.70    7.600   \n",
       "23      24.0                        Alphabet  United States   89.90   19.500   \n",
       "...      ...                             ...            ...     ...      ...   \n",
       "1988  1989.0                 Barry Callebaut    Switzerland    6.80    0.221   \n",
       "1991  1992.0  Guangxi Guiguan Electric Power          China    2.00    0.643   \n",
       "1992  1993.0       Live Nation Entertainment  United States    8.40   -0.047   \n",
       "1996  1997.0               Fastighets Balder         Sweden    0.63    0.639   \n",
       "1999  2000.0                   Tech Mahindra          India    4.20    0.469   \n",
       "\n",
       "      Assets  Market Value                      Sector  \\\n",
       "5     2816.0         149.2                  Financials   \n",
       "10     403.8         249.3  Telecommunication Services   \n",
       "12     330.3         343.2                      Energy   \n",
       "20     935.9          83.7                  Financials   \n",
       "23     167.5         579.5      Information Technology   \n",
       "...      ...           ...                         ...   \n",
       "1988     5.8           7.3      Consumer Discretionary   \n",
       "1991     6.0           6.0                      Energy   \n",
       "1992     6.8           6.4                      Energy   \n",
       "1996    10.2           3.8                   Materials   \n",
       "1999     3.6           6.7      Information Technology   \n",
       "\n",
       "                         Industry  \n",
       "5                  Regional Banks  \n",
       "10    Telecommunications services  \n",
       "12                            NaN  \n",
       "20          Diversified Insurance  \n",
       "23                            NaN  \n",
       "...                           ...  \n",
       "1988                          NaN  \n",
       "1991                          NaN  \n",
       "1992                          NaN  \n",
       "1996                          NaN  \n",
       "1999                          NaN  \n",
       "\n",
       "[504 rows x 9 columns]"
      ]
     },
     "execution_count": 101,
     "metadata": {},
     "output_type": "execute_result"
    }
   ],
   "source": [
    "pd.options.mode.chained_assignment = None\n",
    "\n",
    "dataset_split.Rank[[5,10,20,100,200,300,400,500,600,700,800,900,1000]]=None;\n",
    "dataset_split.Sales[[5,10,20,100,200,300,400,500,600,700,800,900,1000]]=None;\n",
    "\n",
    "dataset_split[dataset_split.isnull().any(axis=1)]"
   ]
  },
  {
   "cell_type": "markdown",
   "id": "38d4e40d-b5c1-465f-a89e-2afe8f8e423c",
   "metadata": {},
   "source": [
    "* Melakukan pengecekan lagi"
   ]
  },
  {
   "cell_type": "code",
   "execution_count": 86,
   "id": "3f8b265c-3de1-4aea-a04e-f93784a7bcd1",
   "metadata": {},
   "outputs": [
    {
     "data": {
      "text/plain": [
       "Rank            13\n",
       "Company          0\n",
       "Country          0\n",
       "Sales           13\n",
       "Profits          0\n",
       "Assets           0\n",
       "Market Value     0\n",
       "Sector           0\n",
       "Industry         0\n",
       "dtype: int64"
      ]
     },
     "execution_count": 86,
     "metadata": {},
     "output_type": "execute_result"
    }
   ],
   "source": [
    "dataset_split.isnull().sum()"
   ]
  },
  {
   "cell_type": "markdown",
   "id": "7922aa3e-04b3-49c2-b8c2-2bb8f2121ce9",
   "metadata": {},
   "source": [
    "##### Mengubah nilai null type float dengan Strategi Mean."
   ]
  },
  {
   "cell_type": "code",
   "execution_count": 106,
   "id": "006dced0-83b2-45ee-8e09-a77210d75326",
   "metadata": {},
   "outputs": [
    {
     "data": {
      "text/plain": [
       "Rank            13\n",
       "Company          0\n",
       "Country          0\n",
       "Sales            0\n",
       "Profits          0\n",
       "Assets           0\n",
       "Market Value     0\n",
       "Sector           0\n",
       "Industry         0\n",
       "dtype: int64"
      ]
     },
     "execution_count": 106,
     "metadata": {},
     "output_type": "execute_result"
    }
   ],
   "source": [
    "simpleImputerfloat = SimpleImputer(strategy = 'mean')\n",
    "dataset_split['Sales'] = simpleImputerfloat.fit_transform(df[['Sales']])\n",
    "dataset_split.isnull().sum()"
   ]
  },
  {
   "cell_type": "markdown",
   "id": "675ec8e6-cfb3-45e3-be1d-97eb00ba0c60",
   "metadata": {},
   "source": [
    "##### Mengubah nilai null type int dengan Strategi Median."
   ]
  },
  {
   "cell_type": "code",
   "execution_count": 96,
   "id": "fbb23d2c-ae21-4d69-b13c-fd9d7922141d",
   "metadata": {},
   "outputs": [],
   "source": [
    "dataset_split = pd.read_csv('Forbes Top2000 2017.csv')"
   ]
  },
  {
   "cell_type": "code",
   "execution_count": 107,
   "id": "4cca46fe-c797-42cd-b71f-68ad108db240",
   "metadata": {},
   "outputs": [
    {
     "data": {
      "text/plain": [
       "Rank            0\n",
       "Company         0\n",
       "Country         0\n",
       "Sales           0\n",
       "Profits         0\n",
       "Assets          0\n",
       "Market Value    0\n",
       "Sector          0\n",
       "Industry        0\n",
       "dtype: int64"
      ]
     },
     "execution_count": 107,
     "metadata": {},
     "output_type": "execute_result"
    }
   ],
   "source": [
    "simpleImputerint = SimpleImputer(strategy=\"median\")\n",
    "dataset_split[\"Rank\"] = simpleImputerint.fit_transform(dataset_split[[\"Rank\"]])\n",
    "dataset_split.isna().sum()"
   ]
  },
  {
   "cell_type": "markdown",
   "id": "e9728f46-4434-4a39-a352-e577d85a19da",
   "metadata": {},
   "source": [
    "### 5. Menangani Nilai Duplikat pada Dataset."
   ]
  },
  {
   "cell_type": "markdown",
   "id": "a213d544-f0a5-4117-a7ae-945ff5ffd199",
   "metadata": {},
   "source": [
    "* Mengecek Data dan Jumlah Nilai Duplikat pada Dataset"
   ]
  },
  {
   "cell_type": "code",
   "execution_count": 110,
   "id": "a9efabfb-6a8c-4516-8ee1-947a0ebce065",
   "metadata": {},
   "outputs": [
    {
     "data": {
      "text/html": [
       "<div>\n",
       "<style scoped>\n",
       "    .dataframe tbody tr th:only-of-type {\n",
       "        vertical-align: middle;\n",
       "    }\n",
       "\n",
       "    .dataframe tbody tr th {\n",
       "        vertical-align: top;\n",
       "    }\n",
       "\n",
       "    .dataframe thead th {\n",
       "        text-align: right;\n",
       "    }\n",
       "</style>\n",
       "<table border=\"1\" class=\"dataframe\">\n",
       "  <thead>\n",
       "    <tr style=\"text-align: right;\">\n",
       "      <th></th>\n",
       "      <th>Rank</th>\n",
       "      <th>Company</th>\n",
       "      <th>Country</th>\n",
       "      <th>Sales</th>\n",
       "      <th>Profits</th>\n",
       "      <th>Assets</th>\n",
       "      <th>Market Value</th>\n",
       "      <th>Sector</th>\n",
       "      <th>Industry</th>\n",
       "    </tr>\n",
       "  </thead>\n",
       "  <tbody>\n",
       "  </tbody>\n",
       "</table>\n",
       "</div>"
      ],
      "text/plain": [
       "Empty DataFrame\n",
       "Columns: [Rank, Company, Country, Sales, Profits, Assets, Market Value, Sector, Industry]\n",
       "Index: []"
      ]
     },
     "execution_count": 110,
     "metadata": {},
     "output_type": "execute_result"
    }
   ],
   "source": [
    "dataset_split[dataset_split.duplicated()]"
   ]
  },
  {
   "cell_type": "code",
   "execution_count": 111,
   "id": "97093444-bee2-4c2a-9d34-41e664cb03e5",
   "metadata": {},
   "outputs": [
    {
     "data": {
      "text/plain": [
       "0"
      ]
     },
     "execution_count": 111,
     "metadata": {},
     "output_type": "execute_result"
    }
   ],
   "source": [
    "dataset_split.duplicated().sum()"
   ]
  },
  {
   "cell_type": "markdown",
   "id": "e69e6d97-fef5-4d96-ba62-ffb6634557a2",
   "metadata": {},
   "source": [
    "* Membuat Data Duplikat"
   ]
  },
  {
   "cell_type": "code",
   "execution_count": 116,
   "id": "0bc782e2-d09b-4ebf-9bbf-06769924c855",
   "metadata": {},
   "outputs": [
    {
     "name": "stderr",
     "output_type": "stream",
     "text": [
      "C:\\Users\\Asus\\AppData\\Local\\Temp\\ipykernel_6588\\3055183154.py:12: FutureWarning: The frame.append method is deprecated and will be removed from pandas in a future version. Use pandas.concat instead.\n",
      "  dataset_split = dataset_split.append([duplicate1, duplicate2], ignore_index=True)\n"
     ]
    }
   ],
   "source": [
    "duplicate1 = pd.DataFrame([[2, 'ICBC', 'China', 151.4, 42, 3473.2, 229.8, \n",
    "                           'Financials', 'Major Banks']],\n",
    "                        columns =['Rank', 'Company', 'Country', 'Sales', 'Profits', \n",
    "                                  'Assets','Market Value', 'Sector', 'Industry'])\n",
    "\n",
    "\n",
    "duplicate2 = pd.DataFrame([[2, 'ICBC', 'China', 151.4, 42, 3473.2, 229.8, \n",
    "                           'Financials', 'Major Banks']],\n",
    "                        columns =['Rank', 'Company', 'Country', 'Sales', 'Profits', \n",
    "                                  'Assets','Market Value', 'Sector', 'Industry'])\n",
    "             \n",
    "dataset_split = dataset_split.append([duplicate1, duplicate2], ignore_index=True) "
   ]
  },
  {
   "cell_type": "markdown",
   "id": "eb1e227a-8bce-4683-a36f-79e7b3026507",
   "metadata": {},
   "source": [
    "* Melakukan Pengecekan Data Lagi Setelah Membuat Data Duplikat."
   ]
  },
  {
   "cell_type": "code",
   "execution_count": 117,
   "id": "13d61ecc-e4f0-4c85-bbbe-1e7bf92b127f",
   "metadata": {},
   "outputs": [
    {
     "data": {
      "text/plain": [
       "1"
      ]
     },
     "execution_count": 117,
     "metadata": {},
     "output_type": "execute_result"
    }
   ],
   "source": [
    "dataset_split.duplicated().sum()"
   ]
  },
  {
   "cell_type": "code",
   "execution_count": 118,
   "id": "248fe334-13d8-4c85-9772-1a80b1773839",
   "metadata": {},
   "outputs": [
    {
     "data": {
      "text/html": [
       "<div>\n",
       "<style scoped>\n",
       "    .dataframe tbody tr th:only-of-type {\n",
       "        vertical-align: middle;\n",
       "    }\n",
       "\n",
       "    .dataframe tbody tr th {\n",
       "        vertical-align: top;\n",
       "    }\n",
       "\n",
       "    .dataframe thead th {\n",
       "        text-align: right;\n",
       "    }\n",
       "</style>\n",
       "<table border=\"1\" class=\"dataframe\">\n",
       "  <thead>\n",
       "    <tr style=\"text-align: right;\">\n",
       "      <th></th>\n",
       "      <th>Rank</th>\n",
       "      <th>Company</th>\n",
       "      <th>Country</th>\n",
       "      <th>Sales</th>\n",
       "      <th>Profits</th>\n",
       "      <th>Assets</th>\n",
       "      <th>Market Value</th>\n",
       "      <th>Sector</th>\n",
       "      <th>Industry</th>\n",
       "    </tr>\n",
       "  </thead>\n",
       "  <tbody>\n",
       "    <tr>\n",
       "      <th>2001</th>\n",
       "      <td>2.0</td>\n",
       "      <td>ICBC</td>\n",
       "      <td>China</td>\n",
       "      <td>151.4</td>\n",
       "      <td>42.0</td>\n",
       "      <td>3473.2</td>\n",
       "      <td>229.8</td>\n",
       "      <td>Financials</td>\n",
       "      <td>Major Banks</td>\n",
       "    </tr>\n",
       "  </tbody>\n",
       "</table>\n",
       "</div>"
      ],
      "text/plain": [
       "      Rank Company Country  Sales  Profits  Assets  Market Value      Sector  \\\n",
       "2001   2.0    ICBC   China  151.4     42.0  3473.2         229.8  Financials   \n",
       "\n",
       "         Industry  \n",
       "2001  Major Banks  "
      ]
     },
     "execution_count": 118,
     "metadata": {},
     "output_type": "execute_result"
    }
   ],
   "source": [
    "dataset_split[dataset_split.duplicated()]"
   ]
  },
  {
   "cell_type": "markdown",
   "id": "c0418e44-5c2e-4c0f-87fa-7f100f0875d3",
   "metadata": {},
   "source": [
    "##### Menghapus Nilai Duplikat"
   ]
  },
  {
   "cell_type": "code",
   "execution_count": 119,
   "id": "188cd8a5-e301-4145-a023-fdf07335196c",
   "metadata": {},
   "outputs": [],
   "source": [
    "dataset_split.drop_duplicates(inplace=True)"
   ]
  },
  {
   "cell_type": "markdown",
   "id": "e9cb3341-52f5-4b8c-8105-7d1f514160c1",
   "metadata": {},
   "source": [
    "##### Nilai Duplikat Berhasil Dihapus"
   ]
  },
  {
   "cell_type": "code",
   "execution_count": 120,
   "id": "d4fa1431-25d2-4c6f-9dcf-c5ae7acd30fa",
   "metadata": {},
   "outputs": [
    {
     "data": {
      "text/html": [
       "<div>\n",
       "<style scoped>\n",
       "    .dataframe tbody tr th:only-of-type {\n",
       "        vertical-align: middle;\n",
       "    }\n",
       "\n",
       "    .dataframe tbody tr th {\n",
       "        vertical-align: top;\n",
       "    }\n",
       "\n",
       "    .dataframe thead th {\n",
       "        text-align: right;\n",
       "    }\n",
       "</style>\n",
       "<table border=\"1\" class=\"dataframe\">\n",
       "  <thead>\n",
       "    <tr style=\"text-align: right;\">\n",
       "      <th></th>\n",
       "      <th>Rank</th>\n",
       "      <th>Company</th>\n",
       "      <th>Country</th>\n",
       "      <th>Sales</th>\n",
       "      <th>Profits</th>\n",
       "      <th>Assets</th>\n",
       "      <th>Market Value</th>\n",
       "      <th>Sector</th>\n",
       "      <th>Industry</th>\n",
       "    </tr>\n",
       "  </thead>\n",
       "  <tbody>\n",
       "  </tbody>\n",
       "</table>\n",
       "</div>"
      ],
      "text/plain": [
       "Empty DataFrame\n",
       "Columns: [Rank, Company, Country, Sales, Profits, Assets, Market Value, Sector, Industry]\n",
       "Index: []"
      ]
     },
     "execution_count": 120,
     "metadata": {},
     "output_type": "execute_result"
    }
   ],
   "source": [
    "dataset_split[dataset_split.duplicated()]"
   ]
  },
  {
   "cell_type": "code",
   "execution_count": 128,
   "id": "03913cac-18d5-455f-8ce7-90f97c1c0bc8",
   "metadata": {},
   "outputs": [
    {
     "data": {
      "text/plain": [
       "0"
      ]
     },
     "execution_count": 128,
     "metadata": {},
     "output_type": "execute_result"
    }
   ],
   "source": [
    "dataset_split.duplicated().sum()"
   ]
  },
  {
   "cell_type": "markdown",
   "id": "a97a25f1-14cb-4c0f-a63d-b74fd1e30c1c",
   "metadata": {},
   "source": [
    "### 6. Mengubah Tipe Data Salah Satu Atribut Bertipe Angka"
   ]
  },
  {
   "cell_type": "code",
   "execution_count": 129,
   "id": "8d8cdf0d-6f41-441f-aadd-7b90c5cab086",
   "metadata": {},
   "outputs": [],
   "source": [
    "dataset_split = pd.read_csv('Forbes Top2000 2017.csv')"
   ]
  },
  {
   "cell_type": "code",
   "execution_count": 130,
   "id": "b66dde7f-e88c-4731-a1ae-ccea5b518a33",
   "metadata": {},
   "outputs": [
    {
     "data": {
      "text/plain": [
       "Rank              int64\n",
       "Company          object\n",
       "Country          object\n",
       "Sales           float64\n",
       "Profits         float64\n",
       "Assets          float64\n",
       "Market Value    float64\n",
       "Sector           object\n",
       "Industry         object\n",
       "dtype: object"
      ]
     },
     "execution_count": 130,
     "metadata": {},
     "output_type": "execute_result"
    }
   ],
   "source": [
    "dataset_split.dtypes"
   ]
  },
  {
   "cell_type": "markdown",
   "id": "b578d5dd-c25b-4cc5-b95e-67bce0dd1114",
   "metadata": {},
   "source": [
    "* Mengubah Tipe data menjadi Object."
   ]
  },
  {
   "cell_type": "code",
   "execution_count": 147,
   "id": "755c26f7-852c-4e4c-ab3b-6397a7ac2f7b",
   "metadata": {},
   "outputs": [
    {
     "data": {
      "text/plain": [
       "Rank             object\n",
       "Company          object\n",
       "Country          object\n",
       "Sales           float64\n",
       "Profits         float64\n",
       "Assets          float64\n",
       "Market Value    float64\n",
       "Sector           object\n",
       "Industry         object\n",
       "dtype: object"
      ]
     },
     "execution_count": 147,
     "metadata": {},
     "output_type": "execute_result"
    }
   ],
   "source": [
    "dataset_split['Rank'] = dataset_split['Rank'].astype('object')\n",
    "dataset_split.dtypes"
   ]
  },
  {
   "cell_type": "markdown",
   "id": "17400501-4668-471d-aeef-32371ca0fe3f",
   "metadata": {},
   "source": [
    "* Mengubah Tipe data menjadi Float."
   ]
  },
  {
   "cell_type": "code",
   "execution_count": 149,
   "id": "61c0f884-56b8-4640-9798-0e7ad611bddd",
   "metadata": {},
   "outputs": [
    {
     "data": {
      "text/plain": [
       "Rank            float64\n",
       "Company          object\n",
       "Country          object\n",
       "Sales           float64\n",
       "Profits         float64\n",
       "Assets          float64\n",
       "Market Value    float64\n",
       "Sector           object\n",
       "Industry         object\n",
       "dtype: object"
      ]
     },
     "execution_count": 149,
     "metadata": {},
     "output_type": "execute_result"
    }
   ],
   "source": [
    "dataset_split['Rank'] = dataset_split['Rank'].astype('float64')\n",
    "dataset_split.dtypes"
   ]
  },
  {
   "cell_type": "markdown",
   "id": "7faa9054-f19b-4d4a-ae76-85d6d16b5157",
   "metadata": {},
   "source": [
    "# ENCODING"
   ]
  },
  {
   "cell_type": "markdown",
   "id": "3467f388-40af-421d-8c57-c0c2982a1e1a",
   "metadata": {},
   "source": [
    "### 7. One Hot Encoding."
   ]
  },
  {
   "cell_type": "markdown",
   "id": "d2a551fd-cf72-455e-ac3c-adee03901aef",
   "metadata": {},
   "source": [
    "##### Menerapkan One-Hot Encoding menggunakan OneHotEncoder dari Scikit-Learn."
   ]
  },
  {
   "cell_type": "code",
   "execution_count": 159,
   "id": "28be16e4-a73e-4cd5-9722-3966bf02d4f3",
   "metadata": {},
   "outputs": [],
   "source": [
    "from sklearn.preprocessing import OneHotEncoder"
   ]
  },
  {
   "cell_type": "markdown",
   "id": "b050e489-f55f-46ba-a232-1ccfd16f83e7",
   "metadata": {},
   "source": [
    "##### Disini saya menggunakan atribut 'Company'"
   ]
  },
  {
   "cell_type": "code",
   "execution_count": 165,
   "id": "74bc10e2-7e52-45e9-883e-e9cc87c6d7b1",
   "metadata": {},
   "outputs": [],
   "source": [
    "oneHotEncoder = OneHotEncoder(sparse_output = False)"
   ]
  },
  {
   "cell_type": "code",
   "execution_count": 169,
   "id": "58cc6f01-9e6d-44e1-af62-f160421ed9ef",
   "metadata": {},
   "outputs": [],
   "source": [
    "onehot = oneHotEncoder.fit_transform(df[['Company']])"
   ]
  },
  {
   "cell_type": "code",
   "execution_count": 170,
   "id": "ba90adab-109f-4d56-af6e-a548d4030c9f",
   "metadata": {},
   "outputs": [],
   "source": [
    "dataonehot = pd.DataFrame(onehot)"
   ]
  },
  {
   "cell_type": "code",
   "execution_count": 172,
   "id": "29d032f4-5148-4ef5-bba3-e05df47eb744",
   "metadata": {},
   "outputs": [
    {
     "data": {
      "text/html": [
       "<div>\n",
       "<style scoped>\n",
       "    .dataframe tbody tr th:only-of-type {\n",
       "        vertical-align: middle;\n",
       "    }\n",
       "\n",
       "    .dataframe tbody tr th {\n",
       "        vertical-align: top;\n",
       "    }\n",
       "\n",
       "    .dataframe thead th {\n",
       "        text-align: right;\n",
       "    }\n",
       "</style>\n",
       "<table border=\"1\" class=\"dataframe\">\n",
       "  <thead>\n",
       "    <tr style=\"text-align: right;\">\n",
       "      <th></th>\n",
       "      <th>Rank</th>\n",
       "      <th>Company</th>\n",
       "      <th>Country</th>\n",
       "      <th>Sales</th>\n",
       "      <th>Profits</th>\n",
       "      <th>Assets</th>\n",
       "      <th>Market Value</th>\n",
       "      <th>Sector</th>\n",
       "      <th>Industry</th>\n",
       "      <th>0</th>\n",
       "      <th>...</th>\n",
       "      <th>1989</th>\n",
       "      <th>1990</th>\n",
       "      <th>1991</th>\n",
       "      <th>1992</th>\n",
       "      <th>1993</th>\n",
       "      <th>1994</th>\n",
       "      <th>1995</th>\n",
       "      <th>1996</th>\n",
       "      <th>1997</th>\n",
       "      <th>1998</th>\n",
       "    </tr>\n",
       "  </thead>\n",
       "  <tbody>\n",
       "    <tr>\n",
       "      <th>0</th>\n",
       "      <td>1.0</td>\n",
       "      <td>ICBC</td>\n",
       "      <td>China</td>\n",
       "      <td>151.4</td>\n",
       "      <td>42.0</td>\n",
       "      <td>3473.2</td>\n",
       "      <td>229.8</td>\n",
       "      <td>Financials</td>\n",
       "      <td>Major Banks</td>\n",
       "      <td>0.0</td>\n",
       "      <td>...</td>\n",
       "      <td>0.0</td>\n",
       "      <td>0.0</td>\n",
       "      <td>0.0</td>\n",
       "      <td>0.0</td>\n",
       "      <td>0.0</td>\n",
       "      <td>0.0</td>\n",
       "      <td>0.0</td>\n",
       "      <td>0.0</td>\n",
       "      <td>0.0</td>\n",
       "      <td>0.0</td>\n",
       "    </tr>\n",
       "    <tr>\n",
       "      <th>1</th>\n",
       "      <td>2.0</td>\n",
       "      <td>China Construction Bank</td>\n",
       "      <td>China</td>\n",
       "      <td>134.2</td>\n",
       "      <td>35.0</td>\n",
       "      <td>3016.6</td>\n",
       "      <td>200.5</td>\n",
       "      <td>Financials</td>\n",
       "      <td>Regional Banks</td>\n",
       "      <td>0.0</td>\n",
       "      <td>...</td>\n",
       "      <td>0.0</td>\n",
       "      <td>0.0</td>\n",
       "      <td>0.0</td>\n",
       "      <td>0.0</td>\n",
       "      <td>0.0</td>\n",
       "      <td>0.0</td>\n",
       "      <td>0.0</td>\n",
       "      <td>0.0</td>\n",
       "      <td>0.0</td>\n",
       "      <td>0.0</td>\n",
       "    </tr>\n",
       "    <tr>\n",
       "      <th>2</th>\n",
       "      <td>3.0</td>\n",
       "      <td>Berkshire Hathaway</td>\n",
       "      <td>United States</td>\n",
       "      <td>222.9</td>\n",
       "      <td>24.1</td>\n",
       "      <td>620.9</td>\n",
       "      <td>409.9</td>\n",
       "      <td>Financials</td>\n",
       "      <td>Investment Services</td>\n",
       "      <td>0.0</td>\n",
       "      <td>...</td>\n",
       "      <td>0.0</td>\n",
       "      <td>0.0</td>\n",
       "      <td>0.0</td>\n",
       "      <td>0.0</td>\n",
       "      <td>0.0</td>\n",
       "      <td>0.0</td>\n",
       "      <td>0.0</td>\n",
       "      <td>0.0</td>\n",
       "      <td>0.0</td>\n",
       "      <td>0.0</td>\n",
       "    </tr>\n",
       "    <tr>\n",
       "      <th>3</th>\n",
       "      <td>4.0</td>\n",
       "      <td>JPMorgan Chase</td>\n",
       "      <td>United States</td>\n",
       "      <td>102.5</td>\n",
       "      <td>24.2</td>\n",
       "      <td>2513.0</td>\n",
       "      <td>306.6</td>\n",
       "      <td>Financials</td>\n",
       "      <td>Major Banks</td>\n",
       "      <td>0.0</td>\n",
       "      <td>...</td>\n",
       "      <td>0.0</td>\n",
       "      <td>0.0</td>\n",
       "      <td>0.0</td>\n",
       "      <td>0.0</td>\n",
       "      <td>0.0</td>\n",
       "      <td>0.0</td>\n",
       "      <td>0.0</td>\n",
       "      <td>0.0</td>\n",
       "      <td>0.0</td>\n",
       "      <td>0.0</td>\n",
       "    </tr>\n",
       "    <tr>\n",
       "      <th>4</th>\n",
       "      <td>5.0</td>\n",
       "      <td>Wells Fargo</td>\n",
       "      <td>United States</td>\n",
       "      <td>97.6</td>\n",
       "      <td>21.9</td>\n",
       "      <td>1943.4</td>\n",
       "      <td>274.4</td>\n",
       "      <td>Financials</td>\n",
       "      <td>Major Banks</td>\n",
       "      <td>0.0</td>\n",
       "      <td>...</td>\n",
       "      <td>0.0</td>\n",
       "      <td>0.0</td>\n",
       "      <td>0.0</td>\n",
       "      <td>0.0</td>\n",
       "      <td>0.0</td>\n",
       "      <td>0.0</td>\n",
       "      <td>0.0</td>\n",
       "      <td>0.0</td>\n",
       "      <td>0.0</td>\n",
       "      <td>0.0</td>\n",
       "    </tr>\n",
       "  </tbody>\n",
       "</table>\n",
       "<p>5 rows × 2008 columns</p>\n",
       "</div>"
      ],
      "text/plain": [
       "   Rank                  Company        Country  Sales  Profits  Assets  \\\n",
       "0   1.0                     ICBC          China  151.4     42.0  3473.2   \n",
       "1   2.0  China Construction Bank          China  134.2     35.0  3016.6   \n",
       "2   3.0       Berkshire Hathaway  United States  222.9     24.1   620.9   \n",
       "3   4.0           JPMorgan Chase  United States  102.5     24.2  2513.0   \n",
       "4   5.0              Wells Fargo  United States   97.6     21.9  1943.4   \n",
       "\n",
       "   Market Value      Sector             Industry    0  ...  1989  1990  1991  \\\n",
       "0         229.8  Financials          Major Banks  0.0  ...   0.0   0.0   0.0   \n",
       "1         200.5  Financials       Regional Banks  0.0  ...   0.0   0.0   0.0   \n",
       "2         409.9  Financials  Investment Services  0.0  ...   0.0   0.0   0.0   \n",
       "3         306.6  Financials          Major Banks  0.0  ...   0.0   0.0   0.0   \n",
       "4         274.4  Financials          Major Banks  0.0  ...   0.0   0.0   0.0   \n",
       "\n",
       "   1992  1993  1994  1995  1996  1997  1998  \n",
       "0   0.0   0.0   0.0   0.0   0.0   0.0   0.0  \n",
       "1   0.0   0.0   0.0   0.0   0.0   0.0   0.0  \n",
       "2   0.0   0.0   0.0   0.0   0.0   0.0   0.0  \n",
       "3   0.0   0.0   0.0   0.0   0.0   0.0   0.0  \n",
       "4   0.0   0.0   0.0   0.0   0.0   0.0   0.0  \n",
       "\n",
       "[5 rows x 2008 columns]"
      ]
     },
     "execution_count": 172,
     "metadata": {},
     "output_type": "execute_result"
    }
   ],
   "source": [
    "dataset_split = dataset_split.join(dataonehot)\n",
    "dataset_split.head()"
   ]
  },
  {
   "cell_type": "markdown",
   "id": "e0fa0ab3-aa1a-4c6a-ac9d-46bb20520ef6",
   "metadata": {},
   "source": [
    "##### Menerapkan One-Hot Encoding menggunakan get_dummies dari Pandas"
   ]
  },
  {
   "cell_type": "markdown",
   "id": "25f4c75f-9081-4c8a-bf75-3321ec284743",
   "metadata": {},
   "source": [
    "##### Disini saya menggunakan atribut 'Industry'"
   ]
  },
  {
   "cell_type": "code",
   "execution_count": 174,
   "id": "fcd27f61-5068-4907-923b-9b68c64eb08f",
   "metadata": {},
   "outputs": [],
   "source": [
    "Dummies = pd.get_dummies(dataset_split[['Industry']])"
   ]
  },
  {
   "cell_type": "code",
   "execution_count": 175,
   "id": "9582dd39-511b-4f95-b369-8d1cdd38d6c9",
   "metadata": {},
   "outputs": [],
   "source": [
    "Industry = pd.DataFrame(Dummies)\n",
    "dataset_split = dataset_split.join(Industry)"
   ]
  },
  {
   "cell_type": "code",
   "execution_count": 176,
   "id": "ad70871a-8671-483a-b1aa-2f295e5d546a",
   "metadata": {},
   "outputs": [
    {
     "data": {
      "text/html": [
       "<div>\n",
       "<style scoped>\n",
       "    .dataframe tbody tr th:only-of-type {\n",
       "        vertical-align: middle;\n",
       "    }\n",
       "\n",
       "    .dataframe tbody tr th {\n",
       "        vertical-align: top;\n",
       "    }\n",
       "\n",
       "    .dataframe thead th {\n",
       "        text-align: right;\n",
       "    }\n",
       "</style>\n",
       "<table border=\"1\" class=\"dataframe\">\n",
       "  <thead>\n",
       "    <tr style=\"text-align: right;\">\n",
       "      <th></th>\n",
       "      <th>Rank</th>\n",
       "      <th>Company</th>\n",
       "      <th>Country</th>\n",
       "      <th>Sales</th>\n",
       "      <th>Profits</th>\n",
       "      <th>Assets</th>\n",
       "      <th>Market Value</th>\n",
       "      <th>Sector</th>\n",
       "      <th>Industry</th>\n",
       "      <th>0</th>\n",
       "      <th>...</th>\n",
       "      <th>Industry_Security Systems</th>\n",
       "      <th>Industry_Semiconductors</th>\n",
       "      <th>Industry_Software &amp; Programming</th>\n",
       "      <th>Industry_Specialized Chemicals</th>\n",
       "      <th>Industry_Specialty Stores</th>\n",
       "      <th>Industry_Telecommunications services</th>\n",
       "      <th>Industry_Thrifts &amp; Mortgage Finance</th>\n",
       "      <th>Industry_Tobacco</th>\n",
       "      <th>Industry_Trading Companies</th>\n",
       "      <th>Industry_Trucking</th>\n",
       "    </tr>\n",
       "  </thead>\n",
       "  <tbody>\n",
       "    <tr>\n",
       "      <th>0</th>\n",
       "      <td>1.0</td>\n",
       "      <td>ICBC</td>\n",
       "      <td>China</td>\n",
       "      <td>151.4</td>\n",
       "      <td>42.0</td>\n",
       "      <td>3473.2</td>\n",
       "      <td>229.8</td>\n",
       "      <td>Financials</td>\n",
       "      <td>Major Banks</td>\n",
       "      <td>0.0</td>\n",
       "      <td>...</td>\n",
       "      <td>0</td>\n",
       "      <td>0</td>\n",
       "      <td>0</td>\n",
       "      <td>0</td>\n",
       "      <td>0</td>\n",
       "      <td>0</td>\n",
       "      <td>0</td>\n",
       "      <td>0</td>\n",
       "      <td>0</td>\n",
       "      <td>0</td>\n",
       "    </tr>\n",
       "    <tr>\n",
       "      <th>1</th>\n",
       "      <td>2.0</td>\n",
       "      <td>China Construction Bank</td>\n",
       "      <td>China</td>\n",
       "      <td>134.2</td>\n",
       "      <td>35.0</td>\n",
       "      <td>3016.6</td>\n",
       "      <td>200.5</td>\n",
       "      <td>Financials</td>\n",
       "      <td>Regional Banks</td>\n",
       "      <td>0.0</td>\n",
       "      <td>...</td>\n",
       "      <td>0</td>\n",
       "      <td>0</td>\n",
       "      <td>0</td>\n",
       "      <td>0</td>\n",
       "      <td>0</td>\n",
       "      <td>0</td>\n",
       "      <td>0</td>\n",
       "      <td>0</td>\n",
       "      <td>0</td>\n",
       "      <td>0</td>\n",
       "    </tr>\n",
       "    <tr>\n",
       "      <th>2</th>\n",
       "      <td>3.0</td>\n",
       "      <td>Berkshire Hathaway</td>\n",
       "      <td>United States</td>\n",
       "      <td>222.9</td>\n",
       "      <td>24.1</td>\n",
       "      <td>620.9</td>\n",
       "      <td>409.9</td>\n",
       "      <td>Financials</td>\n",
       "      <td>Investment Services</td>\n",
       "      <td>0.0</td>\n",
       "      <td>...</td>\n",
       "      <td>0</td>\n",
       "      <td>0</td>\n",
       "      <td>0</td>\n",
       "      <td>0</td>\n",
       "      <td>0</td>\n",
       "      <td>0</td>\n",
       "      <td>0</td>\n",
       "      <td>0</td>\n",
       "      <td>0</td>\n",
       "      <td>0</td>\n",
       "    </tr>\n",
       "    <tr>\n",
       "      <th>3</th>\n",
       "      <td>4.0</td>\n",
       "      <td>JPMorgan Chase</td>\n",
       "      <td>United States</td>\n",
       "      <td>102.5</td>\n",
       "      <td>24.2</td>\n",
       "      <td>2513.0</td>\n",
       "      <td>306.6</td>\n",
       "      <td>Financials</td>\n",
       "      <td>Major Banks</td>\n",
       "      <td>0.0</td>\n",
       "      <td>...</td>\n",
       "      <td>0</td>\n",
       "      <td>0</td>\n",
       "      <td>0</td>\n",
       "      <td>0</td>\n",
       "      <td>0</td>\n",
       "      <td>0</td>\n",
       "      <td>0</td>\n",
       "      <td>0</td>\n",
       "      <td>0</td>\n",
       "      <td>0</td>\n",
       "    </tr>\n",
       "    <tr>\n",
       "      <th>4</th>\n",
       "      <td>5.0</td>\n",
       "      <td>Wells Fargo</td>\n",
       "      <td>United States</td>\n",
       "      <td>97.6</td>\n",
       "      <td>21.9</td>\n",
       "      <td>1943.4</td>\n",
       "      <td>274.4</td>\n",
       "      <td>Financials</td>\n",
       "      <td>Major Banks</td>\n",
       "      <td>0.0</td>\n",
       "      <td>...</td>\n",
       "      <td>0</td>\n",
       "      <td>0</td>\n",
       "      <td>0</td>\n",
       "      <td>0</td>\n",
       "      <td>0</td>\n",
       "      <td>0</td>\n",
       "      <td>0</td>\n",
       "      <td>0</td>\n",
       "      <td>0</td>\n",
       "      <td>0</td>\n",
       "    </tr>\n",
       "    <tr>\n",
       "      <th>5</th>\n",
       "      <td>6.0</td>\n",
       "      <td>Agricultural Bank of China</td>\n",
       "      <td>China</td>\n",
       "      <td>115.7</td>\n",
       "      <td>27.8</td>\n",
       "      <td>2816.0</td>\n",
       "      <td>149.2</td>\n",
       "      <td>Financials</td>\n",
       "      <td>Regional Banks</td>\n",
       "      <td>0.0</td>\n",
       "      <td>...</td>\n",
       "      <td>0</td>\n",
       "      <td>0</td>\n",
       "      <td>0</td>\n",
       "      <td>0</td>\n",
       "      <td>0</td>\n",
       "      <td>0</td>\n",
       "      <td>0</td>\n",
       "      <td>0</td>\n",
       "      <td>0</td>\n",
       "      <td>0</td>\n",
       "    </tr>\n",
       "    <tr>\n",
       "      <th>6</th>\n",
       "      <td>7.0</td>\n",
       "      <td>Bank of America</td>\n",
       "      <td>United States</td>\n",
       "      <td>92.2</td>\n",
       "      <td>16.6</td>\n",
       "      <td>2196.8</td>\n",
       "      <td>231.9</td>\n",
       "      <td>Financials</td>\n",
       "      <td>Major Banks</td>\n",
       "      <td>0.0</td>\n",
       "      <td>...</td>\n",
       "      <td>0</td>\n",
       "      <td>0</td>\n",
       "      <td>0</td>\n",
       "      <td>0</td>\n",
       "      <td>0</td>\n",
       "      <td>0</td>\n",
       "      <td>0</td>\n",
       "      <td>0</td>\n",
       "      <td>0</td>\n",
       "      <td>0</td>\n",
       "    </tr>\n",
       "    <tr>\n",
       "      <th>7</th>\n",
       "      <td>8.0</td>\n",
       "      <td>Bank of China</td>\n",
       "      <td>China</td>\n",
       "      <td>113.1</td>\n",
       "      <td>24.9</td>\n",
       "      <td>2611.5</td>\n",
       "      <td>141.3</td>\n",
       "      <td>Financials</td>\n",
       "      <td>Major Banks</td>\n",
       "      <td>0.0</td>\n",
       "      <td>...</td>\n",
       "      <td>0</td>\n",
       "      <td>0</td>\n",
       "      <td>0</td>\n",
       "      <td>0</td>\n",
       "      <td>0</td>\n",
       "      <td>0</td>\n",
       "      <td>0</td>\n",
       "      <td>0</td>\n",
       "      <td>0</td>\n",
       "      <td>0</td>\n",
       "    </tr>\n",
       "    <tr>\n",
       "      <th>8</th>\n",
       "      <td>9.0</td>\n",
       "      <td>Apple</td>\n",
       "      <td>United States</td>\n",
       "      <td>217.5</td>\n",
       "      <td>45.2</td>\n",
       "      <td>331.1</td>\n",
       "      <td>752.0</td>\n",
       "      <td>Information Technology</td>\n",
       "      <td>Computer Hardware</td>\n",
       "      <td>0.0</td>\n",
       "      <td>...</td>\n",
       "      <td>0</td>\n",
       "      <td>0</td>\n",
       "      <td>0</td>\n",
       "      <td>0</td>\n",
       "      <td>0</td>\n",
       "      <td>0</td>\n",
       "      <td>0</td>\n",
       "      <td>0</td>\n",
       "      <td>0</td>\n",
       "      <td>0</td>\n",
       "    </tr>\n",
       "    <tr>\n",
       "      <th>9</th>\n",
       "      <td>10.0</td>\n",
       "      <td>Toyota Motor</td>\n",
       "      <td>Japan</td>\n",
       "      <td>249.9</td>\n",
       "      <td>17.1</td>\n",
       "      <td>412.5</td>\n",
       "      <td>171.9</td>\n",
       "      <td>Consumer Discretionary</td>\n",
       "      <td>Auto &amp; Truck Manufacturers</td>\n",
       "      <td>0.0</td>\n",
       "      <td>...</td>\n",
       "      <td>0</td>\n",
       "      <td>0</td>\n",
       "      <td>0</td>\n",
       "      <td>0</td>\n",
       "      <td>0</td>\n",
       "      <td>0</td>\n",
       "      <td>0</td>\n",
       "      <td>0</td>\n",
       "      <td>0</td>\n",
       "      <td>0</td>\n",
       "    </tr>\n",
       "  </tbody>\n",
       "</table>\n",
       "<p>10 rows × 2088 columns</p>\n",
       "</div>"
      ],
      "text/plain": [
       "   Rank                     Company        Country  Sales  Profits  Assets  \\\n",
       "0   1.0                        ICBC          China  151.4     42.0  3473.2   \n",
       "1   2.0     China Construction Bank          China  134.2     35.0  3016.6   \n",
       "2   3.0          Berkshire Hathaway  United States  222.9     24.1   620.9   \n",
       "3   4.0              JPMorgan Chase  United States  102.5     24.2  2513.0   \n",
       "4   5.0                 Wells Fargo  United States   97.6     21.9  1943.4   \n",
       "5   6.0  Agricultural Bank of China          China  115.7     27.8  2816.0   \n",
       "6   7.0             Bank of America  United States   92.2     16.6  2196.8   \n",
       "7   8.0               Bank of China          China  113.1     24.9  2611.5   \n",
       "8   9.0                       Apple  United States  217.5     45.2   331.1   \n",
       "9  10.0                Toyota Motor          Japan  249.9     17.1   412.5   \n",
       "\n",
       "   Market Value                  Sector                    Industry    0  ...  \\\n",
       "0         229.8              Financials                 Major Banks  0.0  ...   \n",
       "1         200.5              Financials              Regional Banks  0.0  ...   \n",
       "2         409.9              Financials         Investment Services  0.0  ...   \n",
       "3         306.6              Financials                 Major Banks  0.0  ...   \n",
       "4         274.4              Financials                 Major Banks  0.0  ...   \n",
       "5         149.2              Financials              Regional Banks  0.0  ...   \n",
       "6         231.9              Financials                 Major Banks  0.0  ...   \n",
       "7         141.3              Financials                 Major Banks  0.0  ...   \n",
       "8         752.0  Information Technology           Computer Hardware  0.0  ...   \n",
       "9         171.9  Consumer Discretionary  Auto & Truck Manufacturers  0.0  ...   \n",
       "\n",
       "   Industry_Security Systems  Industry_Semiconductors  \\\n",
       "0                          0                        0   \n",
       "1                          0                        0   \n",
       "2                          0                        0   \n",
       "3                          0                        0   \n",
       "4                          0                        0   \n",
       "5                          0                        0   \n",
       "6                          0                        0   \n",
       "7                          0                        0   \n",
       "8                          0                        0   \n",
       "9                          0                        0   \n",
       "\n",
       "   Industry_Software & Programming  Industry_Specialized Chemicals  \\\n",
       "0                                0                               0   \n",
       "1                                0                               0   \n",
       "2                                0                               0   \n",
       "3                                0                               0   \n",
       "4                                0                               0   \n",
       "5                                0                               0   \n",
       "6                                0                               0   \n",
       "7                                0                               0   \n",
       "8                                0                               0   \n",
       "9                                0                               0   \n",
       "\n",
       "   Industry_Specialty Stores  Industry_Telecommunications services  \\\n",
       "0                          0                                     0   \n",
       "1                          0                                     0   \n",
       "2                          0                                     0   \n",
       "3                          0                                     0   \n",
       "4                          0                                     0   \n",
       "5                          0                                     0   \n",
       "6                          0                                     0   \n",
       "7                          0                                     0   \n",
       "8                          0                                     0   \n",
       "9                          0                                     0   \n",
       "\n",
       "   Industry_Thrifts & Mortgage Finance  Industry_Tobacco  \\\n",
       "0                                    0                 0   \n",
       "1                                    0                 0   \n",
       "2                                    0                 0   \n",
       "3                                    0                 0   \n",
       "4                                    0                 0   \n",
       "5                                    0                 0   \n",
       "6                                    0                 0   \n",
       "7                                    0                 0   \n",
       "8                                    0                 0   \n",
       "9                                    0                 0   \n",
       "\n",
       "   Industry_Trading Companies  Industry_Trucking  \n",
       "0                           0                  0  \n",
       "1                           0                  0  \n",
       "2                           0                  0  \n",
       "3                           0                  0  \n",
       "4                           0                  0  \n",
       "5                           0                  0  \n",
       "6                           0                  0  \n",
       "7                           0                  0  \n",
       "8                           0                  0  \n",
       "9                           0                  0  \n",
       "\n",
       "[10 rows x 2088 columns]"
      ]
     },
     "execution_count": 176,
     "metadata": {},
     "output_type": "execute_result"
    }
   ],
   "source": [
    "dataset_split.head(10)"
   ]
  },
  {
   "cell_type": "code",
   "execution_count": null,
   "id": "b41d160a-2601-4c4a-9dc2-7418c65b9c29",
   "metadata": {},
   "outputs": [],
   "source": []
  }
 ],
 "metadata": {
  "kernelspec": {
   "display_name": "Python 3 (ipykernel)",
   "language": "python",
   "name": "python3"
  },
  "language_info": {
   "codemirror_mode": {
    "name": "ipython",
    "version": 3
   },
   "file_extension": ".py",
   "mimetype": "text/x-python",
   "name": "python",
   "nbconvert_exporter": "python",
   "pygments_lexer": "ipython3",
   "version": "3.10.7"
  }
 },
 "nbformat": 4,
 "nbformat_minor": 5
}
